{
 "cells": [
  {
   "cell_type": "code",
   "execution_count": 1,
   "id": "b715d809",
   "metadata": {},
   "outputs": [],
   "source": [
    "import pandas as pd\n",
    "import numpy as np"
   ]
  },
  {
   "cell_type": "code",
   "execution_count": 2,
   "id": "b3155dca",
   "metadata": {},
   "outputs": [],
   "source": [
    "df = pd.DataFrame({'X':[78,85,96,80,86],  'Y':[84,94,89,83,86], 'Z':[86,97,96,72,83]})"
   ]
  },
  {
   "cell_type": "code",
   "execution_count": 3,
   "id": "5cd55dd9",
   "metadata": {},
   "outputs": [
    {
     "name": "stdout",
     "output_type": "stream",
     "text": [
      "    X   Y   Z\n",
      "0  78  84  86\n",
      "1  85  94  97\n",
      "2  96  89  96\n",
      "3  80  83  72\n",
      "4  86  86  83\n"
     ]
    }
   ],
   "source": [
    "print (df)"
   ]
  },
  {
   "cell_type": "code",
   "execution_count": 4,
   "id": "bb846964",
   "metadata": {},
   "outputs": [
    {
     "name": "stdout",
     "output_type": "stream",
     "text": [
      "0     2\n",
      "1     4\n",
      "2     6\n",
      "3     8\n",
      "4    10\n",
      "dtype: int64\n"
     ]
    }
   ],
   "source": [
    "s = pd.Series([2, 4, 6, 8, 10])\n",
    "print(s)"
   ]
  },
  {
   "cell_type": "code",
   "execution_count": 5,
   "id": "58e3bea9",
   "metadata": {},
   "outputs": [],
   "source": [
    "df2 = pd.DataFrame(np.random.rand(20,5))"
   ]
  },
  {
   "cell_type": "code",
   "execution_count": 6,
   "id": "fa84f276",
   "metadata": {},
   "outputs": [],
   "source": [
    "my_list = [1,2,3,4]"
   ]
  },
  {
   "cell_type": "code",
   "execution_count": 22,
   "id": "95769d5d",
   "metadata": {},
   "outputs": [],
   "source": [
    "s2 = pd.Series(my_list)"
   ]
  },
  {
   "cell_type": "code",
   "execution_count": 9,
   "id": "cf5652dc",
   "metadata": {},
   "outputs": [],
   "source": [
    "df2.index = pd.date_range('1900/1/30',periods=df2.shape[0])"
   ]
  },
  {
   "cell_type": "code",
   "execution_count": 10,
   "id": "bcac05ff",
   "metadata": {},
   "outputs": [
    {
     "name": "stdout",
     "output_type": "stream",
     "text": [
      "                   0         1         2         3         4\n",
      "1900-01-30  0.459966  0.211842  0.058719  0.101351  0.124305\n",
      "1900-01-31  0.010894  0.811726  0.367657  0.965921  0.985529\n",
      "1900-02-01  0.749436  0.946895  0.156742  0.886261  0.825862\n",
      "1900-02-02  0.498245  0.697972  0.843764  0.694627  0.737640\n",
      "1900-02-03  0.287825  0.346197  0.976543  0.361267  0.202233\n",
      "1900-02-04  0.807026  0.219802  0.614898  0.255808  0.623173\n",
      "1900-02-05  0.686326  0.638692  0.833199  0.702565  0.731775\n",
      "1900-02-06  0.691222  0.302948  0.893286  0.565482  0.410185\n",
      "1900-02-07  0.779392  0.383352  0.872147  0.858216  0.682578\n",
      "1900-02-08  0.584861  0.345372  0.235243  0.054829  0.505860\n",
      "1900-02-09  0.153471  0.870413  0.519043  0.728907  0.112239\n",
      "1900-02-10  0.136935  0.867623  0.411071  0.427248  0.390583\n",
      "1900-02-11  0.947149  0.161509  0.921043  0.317235  0.581176\n",
      "1900-02-12  0.004302  0.262514  0.379184  0.289333  0.635831\n",
      "1900-02-13  0.853379  0.896661  0.651496  0.466804  0.532817\n",
      "1900-02-14  0.485954  0.531668  0.956469  0.372318  0.468649\n",
      "1900-02-15  0.633987  0.052247  0.197112  0.560890  0.635375\n",
      "1900-02-16  0.129797  0.826043  0.732374  0.136410  0.665504\n",
      "1900-02-17  0.692031  0.320371  0.250227  0.651735  0.614616\n",
      "1900-02-18  0.496996  0.619787  0.927775  0.703233  0.745134\n"
     ]
    }
   ],
   "source": [
    "print(df2)"
   ]
  },
  {
   "cell_type": "code",
   "execution_count": 14,
   "id": "de29d984",
   "metadata": {},
   "outputs": [
    {
     "data": {
      "text/html": [
       "<div>\n",
       "<style scoped>\n",
       "    .dataframe tbody tr th:only-of-type {\n",
       "        vertical-align: middle;\n",
       "    }\n",
       "\n",
       "    .dataframe tbody tr th {\n",
       "        vertical-align: top;\n",
       "    }\n",
       "\n",
       "    .dataframe thead th {\n",
       "        text-align: right;\n",
       "    }\n",
       "</style>\n",
       "<table border=\"1\" class=\"dataframe\">\n",
       "  <thead>\n",
       "    <tr style=\"text-align: right;\">\n",
       "      <th></th>\n",
       "      <th>0</th>\n",
       "      <th>1</th>\n",
       "      <th>2</th>\n",
       "      <th>3</th>\n",
       "      <th>4</th>\n",
       "    </tr>\n",
       "  </thead>\n",
       "  <tbody>\n",
       "    <tr>\n",
       "      <th>1900-01-30</th>\n",
       "      <td>0.459966</td>\n",
       "      <td>0.211842</td>\n",
       "      <td>0.058719</td>\n",
       "      <td>0.101351</td>\n",
       "      <td>0.124305</td>\n",
       "    </tr>\n",
       "    <tr>\n",
       "      <th>1900-01-31</th>\n",
       "      <td>0.010894</td>\n",
       "      <td>0.811726</td>\n",
       "      <td>0.367657</td>\n",
       "      <td>0.965921</td>\n",
       "      <td>0.985529</td>\n",
       "    </tr>\n",
       "    <tr>\n",
       "      <th>1900-02-01</th>\n",
       "      <td>0.749436</td>\n",
       "      <td>0.946895</td>\n",
       "      <td>0.156742</td>\n",
       "      <td>0.886261</td>\n",
       "      <td>0.825862</td>\n",
       "    </tr>\n",
       "    <tr>\n",
       "      <th>1900-02-02</th>\n",
       "      <td>0.498245</td>\n",
       "      <td>0.697972</td>\n",
       "      <td>0.843764</td>\n",
       "      <td>0.694627</td>\n",
       "      <td>0.737640</td>\n",
       "    </tr>\n",
       "    <tr>\n",
       "      <th>1900-02-03</th>\n",
       "      <td>0.287825</td>\n",
       "      <td>0.346197</td>\n",
       "      <td>0.976543</td>\n",
       "      <td>0.361267</td>\n",
       "      <td>0.202233</td>\n",
       "    </tr>\n",
       "    <tr>\n",
       "      <th>1900-02-04</th>\n",
       "      <td>0.807026</td>\n",
       "      <td>0.219802</td>\n",
       "      <td>0.614898</td>\n",
       "      <td>0.255808</td>\n",
       "      <td>0.623173</td>\n",
       "    </tr>\n",
       "    <tr>\n",
       "      <th>1900-02-05</th>\n",
       "      <td>0.686326</td>\n",
       "      <td>0.638692</td>\n",
       "      <td>0.833199</td>\n",
       "      <td>0.702565</td>\n",
       "      <td>0.731775</td>\n",
       "    </tr>\n",
       "    <tr>\n",
       "      <th>1900-02-06</th>\n",
       "      <td>0.691222</td>\n",
       "      <td>0.302948</td>\n",
       "      <td>0.893286</td>\n",
       "      <td>0.565482</td>\n",
       "      <td>0.410185</td>\n",
       "    </tr>\n",
       "    <tr>\n",
       "      <th>1900-02-07</th>\n",
       "      <td>0.779392</td>\n",
       "      <td>0.383352</td>\n",
       "      <td>0.872147</td>\n",
       "      <td>0.858216</td>\n",
       "      <td>0.682578</td>\n",
       "    </tr>\n",
       "    <tr>\n",
       "      <th>1900-02-08</th>\n",
       "      <td>0.584861</td>\n",
       "      <td>0.345372</td>\n",
       "      <td>0.235243</td>\n",
       "      <td>0.054829</td>\n",
       "      <td>0.505860</td>\n",
       "    </tr>\n",
       "  </tbody>\n",
       "</table>\n",
       "</div>"
      ],
      "text/plain": [
       "                   0         1         2         3         4\n",
       "1900-01-30  0.459966  0.211842  0.058719  0.101351  0.124305\n",
       "1900-01-31  0.010894  0.811726  0.367657  0.965921  0.985529\n",
       "1900-02-01  0.749436  0.946895  0.156742  0.886261  0.825862\n",
       "1900-02-02  0.498245  0.697972  0.843764  0.694627  0.737640\n",
       "1900-02-03  0.287825  0.346197  0.976543  0.361267  0.202233\n",
       "1900-02-04  0.807026  0.219802  0.614898  0.255808  0.623173\n",
       "1900-02-05  0.686326  0.638692  0.833199  0.702565  0.731775\n",
       "1900-02-06  0.691222  0.302948  0.893286  0.565482  0.410185\n",
       "1900-02-07  0.779392  0.383352  0.872147  0.858216  0.682578\n",
       "1900-02-08  0.584861  0.345372  0.235243  0.054829  0.505860"
      ]
     },
     "execution_count": 14,
     "metadata": {},
     "output_type": "execute_result"
    }
   ],
   "source": [
    "df2.head(10)"
   ]
  },
  {
   "cell_type": "code",
   "execution_count": 13,
   "id": "569b3f16",
   "metadata": {},
   "outputs": [
    {
     "name": "stdout",
     "output_type": "stream",
     "text": [
      "<class 'pandas.core.frame.DataFrame'>\n",
      "DatetimeIndex: 20 entries, 1900-01-30 to 1900-02-18\n",
      "Freq: D\n",
      "Data columns (total 5 columns):\n",
      " #   Column  Non-Null Count  Dtype  \n",
      "---  ------  --------------  -----  \n",
      " 0   0       20 non-null     float64\n",
      " 1   1       20 non-null     float64\n",
      " 2   2       20 non-null     float64\n",
      " 3   3       20 non-null     float64\n",
      " 4   4       20 non-null     float64\n",
      "dtypes: float64(5)\n",
      "memory usage: 960.0 bytes\n"
     ]
    }
   ],
   "source": [
    "df2.info()"
   ]
  },
  {
   "cell_type": "code",
   "execution_count": 15,
   "id": "e76388d0",
   "metadata": {},
   "outputs": [
    {
     "data": {
      "text/html": [
       "<div>\n",
       "<style scoped>\n",
       "    .dataframe tbody tr th:only-of-type {\n",
       "        vertical-align: middle;\n",
       "    }\n",
       "\n",
       "    .dataframe tbody tr th {\n",
       "        vertical-align: top;\n",
       "    }\n",
       "\n",
       "    .dataframe thead th {\n",
       "        text-align: right;\n",
       "    }\n",
       "</style>\n",
       "<table border=\"1\" class=\"dataframe\">\n",
       "  <thead>\n",
       "    <tr style=\"text-align: right;\">\n",
       "      <th></th>\n",
       "      <th>0</th>\n",
       "      <th>1</th>\n",
       "      <th>2</th>\n",
       "      <th>3</th>\n",
       "      <th>4</th>\n",
       "    </tr>\n",
       "  </thead>\n",
       "  <tbody>\n",
       "    <tr>\n",
       "      <th>1900-02-09</th>\n",
       "      <td>0.153471</td>\n",
       "      <td>0.870413</td>\n",
       "      <td>0.519043</td>\n",
       "      <td>0.728907</td>\n",
       "      <td>0.112239</td>\n",
       "    </tr>\n",
       "    <tr>\n",
       "      <th>1900-02-10</th>\n",
       "      <td>0.136935</td>\n",
       "      <td>0.867623</td>\n",
       "      <td>0.411071</td>\n",
       "      <td>0.427248</td>\n",
       "      <td>0.390583</td>\n",
       "    </tr>\n",
       "    <tr>\n",
       "      <th>1900-02-11</th>\n",
       "      <td>0.947149</td>\n",
       "      <td>0.161509</td>\n",
       "      <td>0.921043</td>\n",
       "      <td>0.317235</td>\n",
       "      <td>0.581176</td>\n",
       "    </tr>\n",
       "    <tr>\n",
       "      <th>1900-02-12</th>\n",
       "      <td>0.004302</td>\n",
       "      <td>0.262514</td>\n",
       "      <td>0.379184</td>\n",
       "      <td>0.289333</td>\n",
       "      <td>0.635831</td>\n",
       "    </tr>\n",
       "    <tr>\n",
       "      <th>1900-02-13</th>\n",
       "      <td>0.853379</td>\n",
       "      <td>0.896661</td>\n",
       "      <td>0.651496</td>\n",
       "      <td>0.466804</td>\n",
       "      <td>0.532817</td>\n",
       "    </tr>\n",
       "    <tr>\n",
       "      <th>1900-02-14</th>\n",
       "      <td>0.485954</td>\n",
       "      <td>0.531668</td>\n",
       "      <td>0.956469</td>\n",
       "      <td>0.372318</td>\n",
       "      <td>0.468649</td>\n",
       "    </tr>\n",
       "    <tr>\n",
       "      <th>1900-02-15</th>\n",
       "      <td>0.633987</td>\n",
       "      <td>0.052247</td>\n",
       "      <td>0.197112</td>\n",
       "      <td>0.560890</td>\n",
       "      <td>0.635375</td>\n",
       "    </tr>\n",
       "    <tr>\n",
       "      <th>1900-02-16</th>\n",
       "      <td>0.129797</td>\n",
       "      <td>0.826043</td>\n",
       "      <td>0.732374</td>\n",
       "      <td>0.136410</td>\n",
       "      <td>0.665504</td>\n",
       "    </tr>\n",
       "    <tr>\n",
       "      <th>1900-02-17</th>\n",
       "      <td>0.692031</td>\n",
       "      <td>0.320371</td>\n",
       "      <td>0.250227</td>\n",
       "      <td>0.651735</td>\n",
       "      <td>0.614616</td>\n",
       "    </tr>\n",
       "    <tr>\n",
       "      <th>1900-02-18</th>\n",
       "      <td>0.496996</td>\n",
       "      <td>0.619787</td>\n",
       "      <td>0.927775</td>\n",
       "      <td>0.703233</td>\n",
       "      <td>0.745134</td>\n",
       "    </tr>\n",
       "  </tbody>\n",
       "</table>\n",
       "</div>"
      ],
      "text/plain": [
       "                   0         1         2         3         4\n",
       "1900-02-09  0.153471  0.870413  0.519043  0.728907  0.112239\n",
       "1900-02-10  0.136935  0.867623  0.411071  0.427248  0.390583\n",
       "1900-02-11  0.947149  0.161509  0.921043  0.317235  0.581176\n",
       "1900-02-12  0.004302  0.262514  0.379184  0.289333  0.635831\n",
       "1900-02-13  0.853379  0.896661  0.651496  0.466804  0.532817\n",
       "1900-02-14  0.485954  0.531668  0.956469  0.372318  0.468649\n",
       "1900-02-15  0.633987  0.052247  0.197112  0.560890  0.635375\n",
       "1900-02-16  0.129797  0.826043  0.732374  0.136410  0.665504\n",
       "1900-02-17  0.692031  0.320371  0.250227  0.651735  0.614616\n",
       "1900-02-18  0.496996  0.619787  0.927775  0.703233  0.745134"
      ]
     },
     "execution_count": 15,
     "metadata": {},
     "output_type": "execute_result"
    }
   ],
   "source": [
    "df2.tail(10)"
   ]
  },
  {
   "cell_type": "code",
   "execution_count": 17,
   "id": "17ccfdc4",
   "metadata": {},
   "outputs": [
    {
     "data": {
      "text/plain": [
       "(20, 5)"
      ]
     },
     "execution_count": 17,
     "metadata": {},
     "output_type": "execute_result"
    }
   ],
   "source": [
    "df2.shape"
   ]
  },
  {
   "cell_type": "code",
   "execution_count": 21,
   "id": "ab38e7a8",
   "metadata": {},
   "outputs": [
    {
     "data": {
      "text/plain": [
       "1900-01-30    0.459966\n",
       "1900-01-31    0.010894\n",
       "1900-02-01    0.749436\n",
       "1900-02-02    0.498245\n",
       "1900-02-03    0.287825\n",
       "1900-02-04    0.807026\n",
       "1900-02-05    0.686326\n",
       "1900-02-06    0.691222\n",
       "1900-02-07    0.779392\n",
       "1900-02-08    0.584861\n",
       "Freq: D, Name: 0, dtype: float64"
      ]
     },
     "execution_count": 21,
     "metadata": {},
     "output_type": "execute_result"
    }
   ],
   "source": [
    "df2.iloc[:10,0]"
   ]
  },
  {
   "cell_type": "code",
   "execution_count": 24,
   "id": "5f449f0f",
   "metadata": {},
   "outputs": [
    {
     "data": {
      "text/plain": [
       "3"
      ]
     },
     "execution_count": 24,
     "metadata": {},
     "output_type": "execute_result"
    }
   ],
   "source": [
    "s2.loc[2]"
   ]
  },
  {
   "cell_type": "code",
   "execution_count": 25,
   "id": "cdff9421",
   "metadata": {},
   "outputs": [
    {
     "data": {
      "text/plain": [
       "3"
      ]
     },
     "execution_count": 25,
     "metadata": {},
     "output_type": "execute_result"
    }
   ],
   "source": [
    "s2.iloc[2]"
   ]
  },
  {
   "cell_type": "code",
   "execution_count": 26,
   "id": "8b6adcb1",
   "metadata": {},
   "outputs": [
    {
     "data": {
      "text/plain": [
       "0    0.459966\n",
       "1    0.211842\n",
       "2    0.058719\n",
       "3    0.101351\n",
       "4    0.124305\n",
       "Name: 1900-01-30 00:00:00, dtype: float64"
      ]
     },
     "execution_count": 26,
     "metadata": {},
     "output_type": "execute_result"
    }
   ],
   "source": [
    "df2.iloc[0,:]"
   ]
  },
  {
   "cell_type": "code",
   "execution_count": null,
   "id": "2f0b7e76",
   "metadata": {},
   "outputs": [],
   "source": []
  }
 ],
 "metadata": {
  "kernelspec": {
   "display_name": "Python 3 (ipykernel)",
   "language": "python",
   "name": "python3"
  },
  "language_info": {
   "codemirror_mode": {
    "name": "ipython",
    "version": 3
   },
   "file_extension": ".py",
   "mimetype": "text/x-python",
   "name": "python",
   "nbconvert_exporter": "python",
   "pygments_lexer": "ipython3",
   "version": "3.8.12"
  }
 },
 "nbformat": 4,
 "nbformat_minor": 5
}
