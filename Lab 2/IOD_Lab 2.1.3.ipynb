{
 "cells": [
  {
   "cell_type": "markdown",
   "metadata": {
    "colab_type": "text",
    "id": "XJ1yDaQTVf4m"
   },
   "source": [
    "<div>\n",
    "<img src=https://www.institutedata.com/wp-content/uploads/2019/10/iod_h_tp_primary_c.svg width=\"300\">\n",
    "</div>"
   ]
  },
  {
   "cell_type": "markdown",
   "metadata": {
    "colab_type": "text",
    "id": "QnAkzb-CVf4o"
   },
   "source": [
    "# Lab 2.1.3\n",
    "\n",
    "## Data\n",
    "\n",
    "The Philippine Statistics Authority (PSA) spearheads the conduct of the Family Income and Expenditure Survey (FIES) nationwide. The survey, which is undertaken every three (3) years, is aimed at providing data on family income and expenditure, including, among others, levels of consumption by item of expenditure, sources of income in cash, and related information affecting income and expenditure levels and patterns in the Philippines.\n",
    "\n",
    "You can download the data from [here](https://www.kaggle.com/grosvenpaul/family-income-and-expenditure).\n",
    "\n",
    "The purpose of today's lab is to use simulation to visualize the sampling distribution for the sample mean. The Central Limit Theorem (CLT) tells us that as our sample size gets larger, the sampling distribution of the sample mean converges to a normal distribution. Therefore, when we have a large sample size, we can say that the sampling distribution for the sample mean is approximately normal, regardless of the distribution from which we are sampling.\n",
    "\n",
    "Let's start by taking a look at the data, **`Total Household Income`** will serve as a \"population\" for the purposes of this lab. "
   ]
  },
  {
   "cell_type": "code",
   "execution_count": 2,
   "metadata": {
    "colab": {},
    "colab_type": "code",
    "id": "SEP_7ZTmVf4p"
   },
   "outputs": [],
   "source": [
    "import pandas as pd\n",
    "import numpy as np\n",
    "import matplotlib.pyplot as plt\n",
    "import seaborn as sns\n",
    "\n",
    "%matplotlib inline"
   ]
  },
  {
   "cell_type": "code",
   "execution_count": 3,
   "metadata": {
    "colab": {},
    "colab_type": "code",
    "id": "TzSCY2HWVf4t"
   },
   "outputs": [],
   "source": [
    "# Read CSV\n",
    "house_hold_csv = \"Data/Family Income and Expenditure.csv\"\n",
    "fies = pd.read_csv(house_hold_csv)"
   ]
  },
  {
   "cell_type": "code",
   "execution_count": 4,
   "metadata": {
    "colab": {},
    "colab_type": "code",
    "id": "f8AVkqjtVf4w"
   },
   "outputs": [
    {
     "data": {
      "text/html": [
       "<div>\n",
       "<style scoped>\n",
       "    .dataframe tbody tr th:only-of-type {\n",
       "        vertical-align: middle;\n",
       "    }\n",
       "\n",
       "    .dataframe tbody tr th {\n",
       "        vertical-align: top;\n",
       "    }\n",
       "\n",
       "    .dataframe thead th {\n",
       "        text-align: right;\n",
       "    }\n",
       "</style>\n",
       "<table border=\"1\" class=\"dataframe\">\n",
       "  <thead>\n",
       "    <tr style=\"text-align: right;\">\n",
       "      <th></th>\n",
       "      <th>Total Household Income</th>\n",
       "      <th>Region</th>\n",
       "      <th>Total Food Expenditure</th>\n",
       "      <th>Main Source of Income</th>\n",
       "      <th>Agricultural Household indicator</th>\n",
       "      <th>Bread and Cereals Expenditure</th>\n",
       "      <th>Total Rice Expenditure</th>\n",
       "      <th>Meat Expenditure</th>\n",
       "      <th>Total Fish and  marine products Expenditure</th>\n",
       "      <th>Fruit Expenditure</th>\n",
       "      <th>...</th>\n",
       "      <th>Number of Refrigerator/Freezer</th>\n",
       "      <th>Number of Washing Machine</th>\n",
       "      <th>Number of Airconditioner</th>\n",
       "      <th>Number of Car, Jeep, Van</th>\n",
       "      <th>Number of Landline/wireless telephones</th>\n",
       "      <th>Number of Cellular phone</th>\n",
       "      <th>Number of Personal Computer</th>\n",
       "      <th>Number of Stove with Oven/Gas Range</th>\n",
       "      <th>Number of Motorized Banca</th>\n",
       "      <th>Number of Motorcycle/Tricycle</th>\n",
       "    </tr>\n",
       "  </thead>\n",
       "  <tbody>\n",
       "    <tr>\n",
       "      <th>0</th>\n",
       "      <td>480332</td>\n",
       "      <td>CAR</td>\n",
       "      <td>117848</td>\n",
       "      <td>Wage/Salaries</td>\n",
       "      <td>0</td>\n",
       "      <td>42140</td>\n",
       "      <td>38300</td>\n",
       "      <td>24676</td>\n",
       "      <td>16806</td>\n",
       "      <td>3325</td>\n",
       "      <td>...</td>\n",
       "      <td>1</td>\n",
       "      <td>1</td>\n",
       "      <td>0</td>\n",
       "      <td>0</td>\n",
       "      <td>0</td>\n",
       "      <td>2</td>\n",
       "      <td>1</td>\n",
       "      <td>0</td>\n",
       "      <td>0</td>\n",
       "      <td>1</td>\n",
       "    </tr>\n",
       "    <tr>\n",
       "      <th>1</th>\n",
       "      <td>198235</td>\n",
       "      <td>CAR</td>\n",
       "      <td>67766</td>\n",
       "      <td>Wage/Salaries</td>\n",
       "      <td>0</td>\n",
       "      <td>17329</td>\n",
       "      <td>13008</td>\n",
       "      <td>17434</td>\n",
       "      <td>11073</td>\n",
       "      <td>2035</td>\n",
       "      <td>...</td>\n",
       "      <td>0</td>\n",
       "      <td>1</td>\n",
       "      <td>0</td>\n",
       "      <td>0</td>\n",
       "      <td>0</td>\n",
       "      <td>3</td>\n",
       "      <td>1</td>\n",
       "      <td>0</td>\n",
       "      <td>0</td>\n",
       "      <td>2</td>\n",
       "    </tr>\n",
       "    <tr>\n",
       "      <th>2</th>\n",
       "      <td>82785</td>\n",
       "      <td>CAR</td>\n",
       "      <td>61609</td>\n",
       "      <td>Wage/Salaries</td>\n",
       "      <td>1</td>\n",
       "      <td>34182</td>\n",
       "      <td>32001</td>\n",
       "      <td>7783</td>\n",
       "      <td>2590</td>\n",
       "      <td>1730</td>\n",
       "      <td>...</td>\n",
       "      <td>0</td>\n",
       "      <td>0</td>\n",
       "      <td>0</td>\n",
       "      <td>0</td>\n",
       "      <td>0</td>\n",
       "      <td>0</td>\n",
       "      <td>0</td>\n",
       "      <td>0</td>\n",
       "      <td>0</td>\n",
       "      <td>0</td>\n",
       "    </tr>\n",
       "    <tr>\n",
       "      <th>3</th>\n",
       "      <td>107589</td>\n",
       "      <td>CAR</td>\n",
       "      <td>78189</td>\n",
       "      <td>Wage/Salaries</td>\n",
       "      <td>0</td>\n",
       "      <td>34030</td>\n",
       "      <td>28659</td>\n",
       "      <td>10914</td>\n",
       "      <td>10812</td>\n",
       "      <td>690</td>\n",
       "      <td>...</td>\n",
       "      <td>0</td>\n",
       "      <td>0</td>\n",
       "      <td>0</td>\n",
       "      <td>0</td>\n",
       "      <td>0</td>\n",
       "      <td>1</td>\n",
       "      <td>0</td>\n",
       "      <td>0</td>\n",
       "      <td>0</td>\n",
       "      <td>0</td>\n",
       "    </tr>\n",
       "    <tr>\n",
       "      <th>4</th>\n",
       "      <td>189322</td>\n",
       "      <td>CAR</td>\n",
       "      <td>94625</td>\n",
       "      <td>Wage/Salaries</td>\n",
       "      <td>0</td>\n",
       "      <td>34820</td>\n",
       "      <td>30167</td>\n",
       "      <td>18391</td>\n",
       "      <td>11309</td>\n",
       "      <td>1395</td>\n",
       "      <td>...</td>\n",
       "      <td>1</td>\n",
       "      <td>0</td>\n",
       "      <td>0</td>\n",
       "      <td>0</td>\n",
       "      <td>0</td>\n",
       "      <td>3</td>\n",
       "      <td>0</td>\n",
       "      <td>0</td>\n",
       "      <td>0</td>\n",
       "      <td>1</td>\n",
       "    </tr>\n",
       "  </tbody>\n",
       "</table>\n",
       "<p>5 rows × 60 columns</p>\n",
       "</div>"
      ],
      "text/plain": [
       "   Total Household Income Region  Total Food Expenditure  \\\n",
       "0                  480332    CAR                  117848   \n",
       "1                  198235    CAR                   67766   \n",
       "2                   82785    CAR                   61609   \n",
       "3                  107589    CAR                   78189   \n",
       "4                  189322    CAR                   94625   \n",
       "\n",
       "  Main Source of Income  Agricultural Household indicator  \\\n",
       "0         Wage/Salaries                                 0   \n",
       "1         Wage/Salaries                                 0   \n",
       "2         Wage/Salaries                                 1   \n",
       "3         Wage/Salaries                                 0   \n",
       "4         Wage/Salaries                                 0   \n",
       "\n",
       "   Bread and Cereals Expenditure  Total Rice Expenditure  Meat Expenditure  \\\n",
       "0                          42140                   38300             24676   \n",
       "1                          17329                   13008             17434   \n",
       "2                          34182                   32001              7783   \n",
       "3                          34030                   28659             10914   \n",
       "4                          34820                   30167             18391   \n",
       "\n",
       "   Total Fish and  marine products Expenditure  Fruit Expenditure  ...  \\\n",
       "0                                        16806               3325  ...   \n",
       "1                                        11073               2035  ...   \n",
       "2                                         2590               1730  ...   \n",
       "3                                        10812                690  ...   \n",
       "4                                        11309               1395  ...   \n",
       "\n",
       "   Number of Refrigerator/Freezer  Number of Washing Machine  \\\n",
       "0                               1                          1   \n",
       "1                               0                          1   \n",
       "2                               0                          0   \n",
       "3                               0                          0   \n",
       "4                               1                          0   \n",
       "\n",
       "   Number of Airconditioner  Number of Car, Jeep, Van  \\\n",
       "0                         0                         0   \n",
       "1                         0                         0   \n",
       "2                         0                         0   \n",
       "3                         0                         0   \n",
       "4                         0                         0   \n",
       "\n",
       "   Number of Landline/wireless telephones  Number of Cellular phone  \\\n",
       "0                                       0                         2   \n",
       "1                                       0                         3   \n",
       "2                                       0                         0   \n",
       "3                                       0                         1   \n",
       "4                                       0                         3   \n",
       "\n",
       "   Number of Personal Computer  Number of Stove with Oven/Gas Range  \\\n",
       "0                            1                                    0   \n",
       "1                            1                                    0   \n",
       "2                            0                                    0   \n",
       "3                            0                                    0   \n",
       "4                            0                                    0   \n",
       "\n",
       "   Number of Motorized Banca  Number of Motorcycle/Tricycle  \n",
       "0                          0                              1  \n",
       "1                          0                              2  \n",
       "2                          0                              0  \n",
       "3                          0                              0  \n",
       "4                          0                              1  \n",
       "\n",
       "[5 rows x 60 columns]"
      ]
     },
     "execution_count": 4,
     "metadata": {},
     "output_type": "execute_result"
    }
   ],
   "source": [
    "# Head\n",
    "fies.head()"
   ]
  },
  {
   "cell_type": "code",
   "execution_count": 5,
   "metadata": {},
   "outputs": [
    {
     "data": {
      "text/plain": [
       "Index(['total_household_income', 'region', 'total_food_expenditure',\n",
       "       'main_source_of_income', 'agricultural_household_indicator',\n",
       "       'bread_and_cereals_expenditure', 'total_rice_expenditure',\n",
       "       'meat_expenditure', 'total_fish_and__marine_products_expenditure',\n",
       "       'fruit_expenditure', 'vegetables_expenditure',\n",
       "       'restaurant_and_hotels_expenditure', 'alcoholic_beverages_expenditure',\n",
       "       'tobacco_expenditure', 'clothing,_footwear_and_other_wear_expenditure',\n",
       "       'housing_and_water_expenditure', 'imputed_house_rental_value',\n",
       "       'medical_care_expenditure', 'transportation_expenditure',\n",
       "       'communication_expenditure', 'education_expenditure',\n",
       "       'miscellaneous_goods_and_services_expenditure',\n",
       "       'special_occasions_expenditure', 'crop_farming_and_gardening_expenses',\n",
       "       'total_income_from_entrepreneurial_acitivites', 'household_head_sex',\n",
       "       'household_head_age', 'household_head_marital_status',\n",
       "       'household_head_highest_grade_completed',\n",
       "       'household_head_job_or_business_indicator', 'household_head_occupation',\n",
       "       'household_head_class_of_worker', 'type_of_household',\n",
       "       'total_number_of_family_members',\n",
       "       'members_with_age_less_than_5_year_old',\n",
       "       'members_with_age_5_-_17_years_old',\n",
       "       'total_number_of_family_members_employed', 'type_of_building/house',\n",
       "       'type_of_roof', 'type_of_walls', 'house_floor_area', 'house_age',\n",
       "       'number_of_bedrooms', 'tenure_status', 'toilet_facilities',\n",
       "       'electricity', 'main_source_of_water_supply', 'number_of_television',\n",
       "       'number_of_cd/vcd/dvd', 'number_of_component/stereo_set',\n",
       "       'number_of_refrigerator/freezer', 'number_of_washing_machine',\n",
       "       'number_of_airconditioner', 'number_of_car,_jeep,_van',\n",
       "       'number_of_landline/wireless_telephones', 'number_of_cellular_phone',\n",
       "       'number_of_personal_computer', 'number_of_stove_with_oven/gas_range',\n",
       "       'number_of_motorized_banca', 'number_of_motorcycle/tricycle'],\n",
       "      dtype='object')"
      ]
     },
     "execution_count": 5,
     "metadata": {},
     "output_type": "execute_result"
    }
   ],
   "source": [
    "fies.columns = fies.columns.str.lower().str.replace(' ', '_')\n",
    "fies.columns"
   ]
  },
  {
   "cell_type": "code",
   "execution_count": 20,
   "metadata": {
    "colab": {},
    "colab_type": "code",
    "id": "SShWhTTQVf4z"
   },
   "outputs": [
    {
     "data": {
      "text/html": [
       "<div>\n",
       "<style scoped>\n",
       "    .dataframe tbody tr th:only-of-type {\n",
       "        vertical-align: middle;\n",
       "    }\n",
       "\n",
       "    .dataframe tbody tr th {\n",
       "        vertical-align: top;\n",
       "    }\n",
       "\n",
       "    .dataframe thead th {\n",
       "        text-align: right;\n",
       "    }\n",
       "</style>\n",
       "<table border=\"1\" class=\"dataframe\">\n",
       "  <thead>\n",
       "    <tr style=\"text-align: right;\">\n",
       "      <th></th>\n",
       "      <th>total household income</th>\n",
       "      <th>region</th>\n",
       "      <th>total food expenditure</th>\n",
       "      <th>main source of income</th>\n",
       "      <th>agricultural household indicator</th>\n",
       "      <th>bread and cereals expenditure</th>\n",
       "      <th>total rice expenditure</th>\n",
       "      <th>meat expenditure</th>\n",
       "      <th>total fish and  marine products expenditure</th>\n",
       "      <th>fruit expenditure</th>\n",
       "      <th>...</th>\n",
       "      <th>number of refrigerator/freezer</th>\n",
       "      <th>number of washing machine</th>\n",
       "      <th>number of airconditioner</th>\n",
       "      <th>number of car, jeep, van</th>\n",
       "      <th>number of landline/wireless telephones</th>\n",
       "      <th>number of cellular phone</th>\n",
       "      <th>number of personal computer</th>\n",
       "      <th>number of stove with oven/gas range</th>\n",
       "      <th>number of motorized banca</th>\n",
       "      <th>number of motorcycle/tricycle</th>\n",
       "    </tr>\n",
       "  </thead>\n",
       "  <tbody>\n",
       "    <tr>\n",
       "      <th>41539</th>\n",
       "      <td>119773</td>\n",
       "      <td>XII - SOCCSKSARGEN</td>\n",
       "      <td>44875</td>\n",
       "      <td>Enterpreneurial Activities</td>\n",
       "      <td>1</td>\n",
       "      <td>23675</td>\n",
       "      <td>21542</td>\n",
       "      <td>1476</td>\n",
       "      <td>6120</td>\n",
       "      <td>1632</td>\n",
       "      <td>...</td>\n",
       "      <td>0</td>\n",
       "      <td>0</td>\n",
       "      <td>0</td>\n",
       "      <td>0</td>\n",
       "      <td>0</td>\n",
       "      <td>1</td>\n",
       "      <td>0</td>\n",
       "      <td>0</td>\n",
       "      <td>0</td>\n",
       "      <td>0</td>\n",
       "    </tr>\n",
       "    <tr>\n",
       "      <th>41540</th>\n",
       "      <td>137320</td>\n",
       "      <td>XII - SOCCSKSARGEN</td>\n",
       "      <td>31157</td>\n",
       "      <td>Enterpreneurial Activities</td>\n",
       "      <td>1</td>\n",
       "      <td>2691</td>\n",
       "      <td>1273</td>\n",
       "      <td>1886</td>\n",
       "      <td>4386</td>\n",
       "      <td>1840</td>\n",
       "      <td>...</td>\n",
       "      <td>0</td>\n",
       "      <td>0</td>\n",
       "      <td>0</td>\n",
       "      <td>0</td>\n",
       "      <td>0</td>\n",
       "      <td>3</td>\n",
       "      <td>0</td>\n",
       "      <td>0</td>\n",
       "      <td>0</td>\n",
       "      <td>0</td>\n",
       "    </tr>\n",
       "    <tr>\n",
       "      <th>41541</th>\n",
       "      <td>133171</td>\n",
       "      <td>XII - SOCCSKSARGEN</td>\n",
       "      <td>45882</td>\n",
       "      <td>Enterpreneurial Activities</td>\n",
       "      <td>2</td>\n",
       "      <td>28646</td>\n",
       "      <td>27339</td>\n",
       "      <td>480</td>\n",
       "      <td>4796</td>\n",
       "      <td>1232</td>\n",
       "      <td>...</td>\n",
       "      <td>0</td>\n",
       "      <td>0</td>\n",
       "      <td>0</td>\n",
       "      <td>0</td>\n",
       "      <td>0</td>\n",
       "      <td>1</td>\n",
       "      <td>0</td>\n",
       "      <td>0</td>\n",
       "      <td>0</td>\n",
       "      <td>0</td>\n",
       "    </tr>\n",
       "    <tr>\n",
       "      <th>41542</th>\n",
       "      <td>129500</td>\n",
       "      <td>XII - SOCCSKSARGEN</td>\n",
       "      <td>81416</td>\n",
       "      <td>Enterpreneurial Activities</td>\n",
       "      <td>1</td>\n",
       "      <td>29996</td>\n",
       "      <td>26655</td>\n",
       "      <td>2359</td>\n",
       "      <td>17730</td>\n",
       "      <td>2923</td>\n",
       "      <td>...</td>\n",
       "      <td>0</td>\n",
       "      <td>0</td>\n",
       "      <td>0</td>\n",
       "      <td>0</td>\n",
       "      <td>0</td>\n",
       "      <td>2</td>\n",
       "      <td>0</td>\n",
       "      <td>0</td>\n",
       "      <td>0</td>\n",
       "      <td>0</td>\n",
       "    </tr>\n",
       "    <tr>\n",
       "      <th>41543</th>\n",
       "      <td>128598</td>\n",
       "      <td>XII - SOCCSKSARGEN</td>\n",
       "      <td>78195</td>\n",
       "      <td>Enterpreneurial Activities</td>\n",
       "      <td>1</td>\n",
       "      <td>43485</td>\n",
       "      <td>41205</td>\n",
       "      <td>1985</td>\n",
       "      <td>7735</td>\n",
       "      <td>2062</td>\n",
       "      <td>...</td>\n",
       "      <td>0</td>\n",
       "      <td>0</td>\n",
       "      <td>0</td>\n",
       "      <td>0</td>\n",
       "      <td>0</td>\n",
       "      <td>1</td>\n",
       "      <td>0</td>\n",
       "      <td>0</td>\n",
       "      <td>0</td>\n",
       "      <td>0</td>\n",
       "    </tr>\n",
       "  </tbody>\n",
       "</table>\n",
       "<p>5 rows × 60 columns</p>\n",
       "</div>"
      ],
      "text/plain": [
       "       total household income              region  total food expenditure  \\\n",
       "41539                  119773  XII - SOCCSKSARGEN                   44875   \n",
       "41540                  137320  XII - SOCCSKSARGEN                   31157   \n",
       "41541                  133171  XII - SOCCSKSARGEN                   45882   \n",
       "41542                  129500  XII - SOCCSKSARGEN                   81416   \n",
       "41543                  128598  XII - SOCCSKSARGEN                   78195   \n",
       "\n",
       "            main source of income  agricultural household indicator  \\\n",
       "41539  Enterpreneurial Activities                                 1   \n",
       "41540  Enterpreneurial Activities                                 1   \n",
       "41541  Enterpreneurial Activities                                 2   \n",
       "41542  Enterpreneurial Activities                                 1   \n",
       "41543  Enterpreneurial Activities                                 1   \n",
       "\n",
       "       bread and cereals expenditure  total rice expenditure  \\\n",
       "41539                          23675                   21542   \n",
       "41540                           2691                    1273   \n",
       "41541                          28646                   27339   \n",
       "41542                          29996                   26655   \n",
       "41543                          43485                   41205   \n",
       "\n",
       "       meat expenditure  total fish and  marine products expenditure  \\\n",
       "41539              1476                                         6120   \n",
       "41540              1886                                         4386   \n",
       "41541               480                                         4796   \n",
       "41542              2359                                        17730   \n",
       "41543              1985                                         7735   \n",
       "\n",
       "       fruit expenditure  ...  number of refrigerator/freezer  \\\n",
       "41539               1632  ...                               0   \n",
       "41540               1840  ...                               0   \n",
       "41541               1232  ...                               0   \n",
       "41542               2923  ...                               0   \n",
       "41543               2062  ...                               0   \n",
       "\n",
       "       number of washing machine  number of airconditioner  \\\n",
       "41539                          0                         0   \n",
       "41540                          0                         0   \n",
       "41541                          0                         0   \n",
       "41542                          0                         0   \n",
       "41543                          0                         0   \n",
       "\n",
       "       number of car, jeep, van  number of landline/wireless telephones  \\\n",
       "41539                         0                                       0   \n",
       "41540                         0                                       0   \n",
       "41541                         0                                       0   \n",
       "41542                         0                                       0   \n",
       "41543                         0                                       0   \n",
       "\n",
       "       number of cellular phone  number of personal computer  \\\n",
       "41539                         1                            0   \n",
       "41540                         3                            0   \n",
       "41541                         1                            0   \n",
       "41542                         2                            0   \n",
       "41543                         1                            0   \n",
       "\n",
       "       number of stove with oven/gas range  number of motorized banca  \\\n",
       "41539                                    0                          0   \n",
       "41540                                    0                          0   \n",
       "41541                                    0                          0   \n",
       "41542                                    0                          0   \n",
       "41543                                    0                          0   \n",
       "\n",
       "       number of motorcycle/tricycle  \n",
       "41539                              0  \n",
       "41540                              0  \n",
       "41541                              0  \n",
       "41542                              0  \n",
       "41543                              0  \n",
       "\n",
       "[5 rows x 60 columns]"
      ]
     },
     "execution_count": 20,
     "metadata": {},
     "output_type": "execute_result"
    }
   ],
   "source": [
    "# Tail\n",
    "fies.tail()"
   ]
  },
  {
   "cell_type": "code",
   "execution_count": 21,
   "metadata": {
    "colab": {},
    "colab_type": "code",
    "id": "Naaa_xKVVf41"
   },
   "outputs": [
    {
     "data": {
      "text/plain": [
       "(41544, 60)"
      ]
     },
     "execution_count": 21,
     "metadata": {},
     "output_type": "execute_result"
    }
   ],
   "source": [
    "# Shape\n",
    "fies.shape"
   ]
  },
  {
   "cell_type": "code",
   "execution_count": 22,
   "metadata": {
    "colab": {},
    "colab_type": "code",
    "id": "vp9cRdywVf44"
   },
   "outputs": [
    {
     "data": {
      "text/plain": [
       "total household income                            int64\n",
       "region                                           object\n",
       "total food expenditure                            int64\n",
       "main source of income                            object\n",
       "agricultural household indicator                  int64\n",
       "bread and cereals expenditure                     int64\n",
       "total rice expenditure                            int64\n",
       "meat expenditure                                  int64\n",
       "total fish and  marine products expenditure       int64\n",
       "fruit expenditure                                 int64\n",
       "vegetables expenditure                            int64\n",
       "restaurant and hotels expenditure                 int64\n",
       "alcoholic beverages expenditure                   int64\n",
       "tobacco expenditure                               int64\n",
       "clothing, footwear and other wear expenditure     int64\n",
       "housing and water expenditure                     int64\n",
       "imputed house rental value                        int64\n",
       "medical care expenditure                          int64\n",
       "transportation expenditure                        int64\n",
       "communication expenditure                         int64\n",
       "education expenditure                             int64\n",
       "miscellaneous goods and services expenditure      int64\n",
       "special occasions expenditure                     int64\n",
       "crop farming and gardening expenses               int64\n",
       "total income from entrepreneurial acitivites      int64\n",
       "household head sex                               object\n",
       "household head age                                int64\n",
       "household head marital status                    object\n",
       "household head highest grade completed           object\n",
       "household head job or business indicator         object\n",
       "household head occupation                        object\n",
       "household head class of worker                   object\n",
       "type of household                                object\n",
       "total number of family members                    int64\n",
       "members with age less than 5 year old             int64\n",
       "members with age 5 - 17 years old                 int64\n",
       "total number of family members employed           int64\n",
       "type of building/house                           object\n",
       "type of roof                                     object\n",
       "type of walls                                    object\n",
       "house floor area                                  int64\n",
       "house age                                         int64\n",
       "number of bedrooms                                int64\n",
       "tenure status                                    object\n",
       "toilet facilities                                object\n",
       "electricity                                       int64\n",
       "main source of water supply                      object\n",
       "number of television                              int64\n",
       "number of cd/vcd/dvd                              int64\n",
       "number of component/stereo set                    int64\n",
       "number of refrigerator/freezer                    int64\n",
       "number of washing machine                         int64\n",
       "number of airconditioner                          int64\n",
       "number of car, jeep, van                          int64\n",
       "number of landline/wireless telephones            int64\n",
       "number of cellular phone                          int64\n",
       "number of personal computer                       int64\n",
       "number of stove with oven/gas range               int64\n",
       "number of motorized banca                         int64\n",
       "number of motorcycle/tricycle                     int64\n",
       "dtype: object"
      ]
     },
     "execution_count": 22,
     "metadata": {},
     "output_type": "execute_result"
    }
   ],
   "source": [
    "# Data Types\n",
    "fies.dtypes"
   ]
  },
  {
   "cell_type": "code",
   "execution_count": 31,
   "metadata": {},
   "outputs": [
    {
     "data": {
      "text/plain": [
       "total household income                           41544\n",
       "region                                           41544\n",
       "total food expenditure                           41544\n",
       "main source of income                            41544\n",
       "agricultural household indicator                 41544\n",
       "bread and cereals expenditure                    41544\n",
       "total rice expenditure                           41544\n",
       "meat expenditure                                 41544\n",
       "total fish and  marine products expenditure      41544\n",
       "fruit expenditure                                41544\n",
       "vegetables expenditure                           41544\n",
       "restaurant and hotels expenditure                41544\n",
       "alcoholic beverages expenditure                  41544\n",
       "tobacco expenditure                              41544\n",
       "clothing, footwear and other wear expenditure    41544\n",
       "housing and water expenditure                    41544\n",
       "imputed house rental value                       41544\n",
       "medical care expenditure                         41544\n",
       "transportation expenditure                       41544\n",
       "communication expenditure                        41544\n",
       "education expenditure                            41544\n",
       "miscellaneous goods and services expenditure     41544\n",
       "special occasions expenditure                    41544\n",
       "crop farming and gardening expenses              41544\n",
       "total income from entrepreneurial acitivites     41544\n",
       "household head sex                               41544\n",
       "household head age                               41544\n",
       "household head marital status                    41544\n",
       "household head highest grade completed           41544\n",
       "household head job or business indicator         41544\n",
       "household head occupation                        34008\n",
       "household head class of worker                   34008\n",
       "type of household                                41544\n",
       "total number of family members                   41544\n",
       "members with age less than 5 year old            41544\n",
       "members with age 5 - 17 years old                41544\n",
       "total number of family members employed          41544\n",
       "type of building/house                           41544\n",
       "type of roof                                     41544\n",
       "type of walls                                    41544\n",
       "house floor area                                 41544\n",
       "house age                                        41544\n",
       "number of bedrooms                               41544\n",
       "tenure status                                    41544\n",
       "toilet facilities                                41544\n",
       "electricity                                      41544\n",
       "main source of water supply                      41544\n",
       "number of television                             41544\n",
       "number of cd/vcd/dvd                             41544\n",
       "number of component/stereo set                   41544\n",
       "number of refrigerator/freezer                   41544\n",
       "number of washing machine                        41544\n",
       "number of airconditioner                         41544\n",
       "number of car, jeep, van                         41544\n",
       "number of landline/wireless telephones           41544\n",
       "number of cellular phone                         41544\n",
       "number of personal computer                      41544\n",
       "number of stove with oven/gas range              41544\n",
       "number of motorized banca                        41544\n",
       "number of motorcycle/tricycle                    41544\n",
       "dtype: int64"
      ]
     },
     "execution_count": 31,
     "metadata": {},
     "output_type": "execute_result"
    }
   ],
   "source": [
    "fies.count()"
   ]
  },
  {
   "cell_type": "code",
   "execution_count": 33,
   "metadata": {},
   "outputs": [
    {
     "data": {
      "text/plain": [
       "total household income                              0\n",
       "region                                              0\n",
       "total food expenditure                              0\n",
       "main source of income                               0\n",
       "agricultural household indicator                    0\n",
       "bread and cereals expenditure                       0\n",
       "total rice expenditure                              0\n",
       "meat expenditure                                    0\n",
       "total fish and  marine products expenditure         0\n",
       "fruit expenditure                                   0\n",
       "vegetables expenditure                              0\n",
       "restaurant and hotels expenditure                   0\n",
       "alcoholic beverages expenditure                     0\n",
       "tobacco expenditure                                 0\n",
       "clothing, footwear and other wear expenditure       0\n",
       "housing and water expenditure                       0\n",
       "imputed house rental value                          0\n",
       "medical care expenditure                            0\n",
       "transportation expenditure                          0\n",
       "communication expenditure                           0\n",
       "education expenditure                               0\n",
       "miscellaneous goods and services expenditure        0\n",
       "special occasions expenditure                       0\n",
       "crop farming and gardening expenses                 0\n",
       "total income from entrepreneurial acitivites        0\n",
       "household head sex                                  0\n",
       "household head age                                  0\n",
       "household head marital status                       0\n",
       "household head highest grade completed              0\n",
       "household head job or business indicator            0\n",
       "household head occupation                        7536\n",
       "household head class of worker                   7536\n",
       "type of household                                   0\n",
       "total number of family members                      0\n",
       "members with age less than 5 year old               0\n",
       "members with age 5 - 17 years old                   0\n",
       "total number of family members employed             0\n",
       "type of building/house                              0\n",
       "type of roof                                        0\n",
       "type of walls                                       0\n",
       "house floor area                                    0\n",
       "house age                                           0\n",
       "number of bedrooms                                  0\n",
       "tenure status                                       0\n",
       "toilet facilities                                   0\n",
       "electricity                                         0\n",
       "main source of water supply                         0\n",
       "number of television                                0\n",
       "number of cd/vcd/dvd                                0\n",
       "number of component/stereo set                      0\n",
       "number of refrigerator/freezer                      0\n",
       "number of washing machine                           0\n",
       "number of airconditioner                            0\n",
       "number of car, jeep, van                            0\n",
       "number of landline/wireless telephones              0\n",
       "number of cellular phone                            0\n",
       "number of personal computer                         0\n",
       "number of stove with oven/gas range                 0\n",
       "number of motorized banca                           0\n",
       "number of motorcycle/tricycle                       0\n",
       "dtype: int64"
      ]
     },
     "execution_count": 33,
     "metadata": {},
     "output_type": "execute_result"
    }
   ],
   "source": [
    "#check data consistency\n",
    "fies.isna().sum()"
   ]
  },
  {
   "cell_type": "markdown",
   "metadata": {
    "colab_type": "text",
    "id": "CXS1YnOgVf47"
   },
   "source": [
    "#### Surveying the populations\n",
    "\n",
    "##### 1. Create a histogram of `Total Household Income`."
   ]
  },
  {
   "cell_type": "code",
   "execution_count": 31,
   "metadata": {
    "colab": {},
    "colab_type": "code",
    "id": "3YKhcWRhVf47"
   },
   "outputs": [
    {
     "data": {
      "image/png": "[encoded data removed]",
      "text/plain": [
       "<Figure size 432x288 with 1 Axes>"
      ]
     },
     "metadata": {
      "needs_background": "light"
     },
     "output_type": "display_data"
    },
    {
     "data": {
      "image/png": "[encoded data removed]",
      "text/plain": [
       "<Figure size 432x288 with 1 Axes>"
      ]
     },
     "metadata": {
      "needs_background": "light"
     },
     "output_type": "display_data"
    },
    {
     "data": {
      "image/png": "[encoded data removed]",
      "text/plain": [
       "<Figure size 432x288 with 1 Axes>"
      ]
     },
     "metadata": {
      "needs_background": "light"
     },
     "output_type": "display_data"
    }
   ],
   "source": [
    "# ANSWER\n",
    "_ = plt.boxplot(x='total_household_income', data=fies)\n",
    "plt.show()\n",
    "_ = plt.hist(x='total_household_income', data=fies, bins=(int(len(fies)/4)))\n",
    "plt.show()\n",
    "_ = plt.scatter(y='total_household_income', x=range(len(fies)), data=fies)\n"
   ]
  },
  {
   "cell_type": "code",
   "execution_count": 77,
   "metadata": {},
   "outputs": [
    {
     "data": {
      "text/plain": [
       "247555.58480165608"
      ]
     },
     "execution_count": 77,
     "metadata": {},
     "output_type": "execute_result"
    }
   ],
   "source": [
    "fies.total_household_income.mean()"
   ]
  },
  {
   "cell_type": "code",
   "execution_count": 112,
   "metadata": {},
   "outputs": [
    {
     "data": {
      "text/plain": [
       "164079.5"
      ]
     },
     "execution_count": 112,
     "metadata": {},
     "output_type": "execute_result"
    }
   ],
   "source": [
    "fies.total_household_income.median()"
   ]
  },
  {
   "cell_type": "code",
   "execution_count": 114,
   "metadata": {},
   "outputs": [
    {
     "data": {
      "text/plain": [
       "count    4.154400e+04\n",
       "mean     2.475556e+05\n",
       "std      2.868805e+05\n",
       "min      1.128500e+04\n",
       "25%      1.048950e+05\n",
       "50%      1.640795e+05\n",
       "75%      2.911385e+05\n",
       "max      1.181599e+07\n",
       "Name: total_household_income, dtype: float64"
      ]
     },
     "execution_count": 114,
     "metadata": {},
     "output_type": "execute_result"
    }
   ],
   "source": [
    "fies.total_household_income.describe()"
   ]
  },
  {
   "cell_type": "code",
   "execution_count": 35,
   "metadata": {},
   "outputs": [
    {
     "name": "stdout",
     "output_type": "stream",
     "text": [
      "total_household_income                           186243.50\n",
      "total_food_expenditure                            54618.25\n",
      "agricultural_household_indicator                      1.00\n",
      "bread_and_cereals_expenditure                     14883.00\n",
      "total_rice_expenditure                            12900.00\n",
      "meat_expenditure                                  10938.25\n",
      "total_fish_and__marine_products_expenditure        7884.00\n",
      "fruit_expenditure                                  2075.25\n",
      "vegetables_expenditure                             3431.25\n",
      "restaurant_and_hotels_expenditure                 17991.25\n",
      "alcoholic_beverages_expenditure                    1299.25\n",
      "tobacco_expenditure                                3146.50\n",
      "clothing,_footwear_and_other_wear_expenditure      4215.00\n",
      "housing_and_water_expenditure                     32868.00\n",
      "imputed_house_rental_value                        18000.00\n",
      "medical_care_expenditure                           4380.00\n",
      "transportation_expenditure                        11364.00\n",
      "communication_expenditure                          3336.00\n",
      "education_expenditure                              4060.00\n",
      "miscellaneous_goods_and_services_expenditure      10362.00\n",
      "special_occasions_expenditure                      5000.00\n",
      "crop_farming_and_gardening_expenses                6312.75\n",
      "total_income_from_entrepreneurial_acitivites      65968.75\n",
      "household_head_age                                   20.00\n",
      "total_number_of_family_members                        3.00\n",
      "members_with_age_less_than_5_year_old                 1.00\n",
      "members_with_age_5_-_17_years_old                     2.00\n",
      "total_number_of_family_members_employed               2.00\n",
      "house_floor_area                                     45.00\n",
      "house_age                                            16.00\n",
      "number_of_bedrooms                                    1.00\n",
      "electricity                                           0.00\n",
      "number_of_television                                  1.00\n",
      "number_of_cd/vcd/dvd                                  1.00\n",
      "number_of_component/stereo_set                        0.00\n",
      "number_of_refrigerator/freezer                        1.00\n",
      "number_of_washing_machine                             1.00\n",
      "number_of_airconditioner                              0.00\n",
      "number_of_car,_jeep,_van                              0.00\n",
      "number_of_landline/wireless_telephones                0.00\n",
      "number_of_cellular_phone                              2.00\n",
      "number_of_personal_computer                           0.00\n",
      "number_of_stove_with_oven/gas_range                   0.00\n",
      "number_of_motorized_banca                             0.00\n",
      "number_of_motorcycle/tricycle                         0.00\n",
      "dtype: float64\n"
     ]
    }
   ],
   "source": [
    "#define IQR\n",
    "Q1 = fies.quantile(0.25)\n",
    "Q3 = fies.quantile(0.75)\n",
    "IQR = Q3 - Q1\n",
    "print(IQR)"
   ]
  },
  {
   "cell_type": "code",
   "execution_count": 75,
   "metadata": {},
   "outputs": [
    {
     "name": "stderr",
     "output_type": "stream",
     "text": [
      "/var/folders/wh/5l_c08654yvfc0h71fmq8pxr0000gn/T/ipykernel_1978/351061501.py:2: FutureWarning: Automatic reindexing on DataFrame vs Series comparisons is deprecated and will raise ValueError in a future version.  Do `left, right = left.align(right, axis=1, copy=False)` before e.g. `left == right`\n",
      "  fies_IQR = fies[~((fies < (Q1 - 1.5 * IQR)) |(fies > (Q3 + 1.5 * IQR))).any(axis=1)]\n",
      "/var/folders/wh/5l_c08654yvfc0h71fmq8pxr0000gn/T/ipykernel_1978/351061501.py:2: FutureWarning: Automatic reindexing on DataFrame vs Series comparisons is deprecated and will raise ValueError in a future version.  Do `left, right = left.align(right, axis=1, copy=False)` before e.g. `left == right`\n",
      "  fies_IQR = fies[~((fies < (Q1 - 1.5 * IQR)) |(fies > (Q3 + 1.5 * IQR))).any(axis=1)]\n"
     ]
    }
   ],
   "source": [
    "#making a new DF based on the IQR to remove outliers\n",
    "fies_IQR = fies[~((fies < (Q1 - 1.5 * IQR)) |(fies > (Q3 + 1.5 * IQR))).any(axis=1)]"
   ]
  },
  {
   "cell_type": "code",
   "execution_count": 78,
   "metadata": {},
   "outputs": [
    {
     "data": {
      "image/png": "[encoded data removed]",
      "text/plain": [
       "<Figure size 432x288 with 1 Axes>"
      ]
     },
     "metadata": {
      "needs_background": "light"
     },
     "output_type": "display_data"
    }
   ],
   "source": [
    "#hist of new DF\n",
    "plt.hist(x='total_household_income',data=fies_IQR, edgecolor='black',bins=20)\n",
    "plt.grid(b=True)"
   ]
  },
  {
   "cell_type": "markdown",
   "metadata": {
    "colab_type": "text",
    "id": "8vgg6ml3Vf4-"
   },
   "source": [
    "##### 2. How would you describe the shape of this population?"
   ]
  },
  {
   "cell_type": "raw",
   "metadata": {
    "colab_type": "text",
    "id": "FI_k9uSEVf4_",
    "tags": []
   },
   "source": [
    "?ANSWER: from the whole population the shape has a positive skewness but doing some light EDA it look like there's a few outliers which it look like this. From the description we can see that the IQR looks like its centered around ~100000 - ~300000"
   ]
  },
  {
   "cell_type": "markdown",
   "metadata": {
    "colab_type": "text",
    "id": "j1hOsdI2Vf4_"
   },
   "source": [
    "##### 2. What is the mean income of this population?"
   ]
  },
  {
   "cell_type": "code",
   "execution_count": 131,
   "metadata": {
    "colab": {},
    "colab_type": "code",
    "id": "kJw8S392Vf5A"
   },
   "outputs": [
    {
     "data": {
      "text/plain": [
       "247555.58480165608"
      ]
     },
     "execution_count": 131,
     "metadata": {},
     "output_type": "execute_result"
    }
   ],
   "source": [
    "# ANSWER\n",
    "fies.total_household_income.mean()"
   ]
  },
  {
   "cell_type": "markdown",
   "metadata": {
    "colab_type": "text",
    "id": "U-aYo343Vf5D"
   },
   "source": [
    "##### 3. What statistical theory could you use to estimate the mean of this population if you were given a random sample from the population?"
   ]
  },
  {
   "cell_type": "raw",
   "metadata": {
    "colab_type": "text",
    "id": "MliyslcyVf5E"
   },
   "source": [
    "?ANSWER:depending on the sample size we could use the Central Limit Theorem or CLT"
   ]
  },
  {
   "cell_type": "markdown",
   "metadata": {
    "colab_type": "text",
    "id": "TkxedbVpVf5E"
   },
   "source": [
    "#### Simulated sampling (sample means)"
   ]
  },
  {
   "cell_type": "markdown",
   "metadata": {
    "colab_type": "text",
    "id": "PREGkP4vVf5F"
   },
   "source": [
    "Now, we'd like to get an idea of what happens when we take multiple random samples of size 5. \n",
    "\n",
    "Take 10 sample (size=5) from the entire population. Calculate means for each sample. Now make a histogram of all the sample means.\n",
    "\n",
    "- Describe the shape of the histogram.\n",
    "- What is the center of the distribution of sample means?"
   ]
  },
  {
   "cell_type": "markdown",
   "metadata": {
    "colab_type": "text",
    "id": "i6_BukQlVf5G"
   },
   "source": [
    "##### 4. Simulation with `sample_size=5`"
   ]
  },
  {
   "cell_type": "markdown",
   "metadata": {
    "colab_type": "text",
    "id": "-CP_eMlOVf5G"
   },
   "source": [
    "Take 10 samples, but with a sample size of 5."
   ]
  },
  {
   "cell_type": "code",
   "execution_count": 41,
   "metadata": {
    "colab": {},
    "colab_type": "code",
    "id": "rqSxVPVwVf5H"
   },
   "outputs": [],
   "source": [
    "# ANSWER\n",
    "sample_mean = []\n",
    "for i in range(10):\n",
    "    sample_mean.append(fies.total_household_income.sample(n=5).mean())\n",
    "\n",
    "sample_mean_IQR = []\n",
    "for i in range(10):\n",
    "    sample_mean_IQR.append(fies_new.total_household_income.sample(n=5).mean())\n",
    "    "
   ]
  },
  {
   "cell_type": "markdown",
   "metadata": {
    "colab_type": "text",
    "id": "CrInQX6EVf5J"
   },
   "source": [
    "##### 4.A Make a histogram of all the sample means"
   ]
  },
  {
   "cell_type": "code",
   "execution_count": 43,
   "metadata": {
    "colab": {},
    "colab_type": "code",
    "id": "oU5T6NQaVf5K"
   },
   "outputs": [
    {
     "data": {
      "image/png": "[encoded data removed]",
      "text/plain": [
       "<Figure size 432x288 with 1 Axes>"
      ]
     },
     "metadata": {
      "needs_background": "light"
     },
     "output_type": "display_data"
    },
    {
     "data": {
      "image/png": "[encoded data removed]",
      "text/plain": [
       "<Figure size 432x288 with 1 Axes>"
      ]
     },
     "metadata": {
      "needs_background": "light"
     },
     "output_type": "display_data"
    }
   ],
   "source": [
    "# ANSWER\n",
    "_ = plt.hist(x=sample_mean)\n",
    "plt.show()\n",
    "_ = plt.hist(x=sample_mean_IQR)"
   ]
  },
  {
   "cell_type": "markdown",
   "metadata": {
    "colab_type": "text",
    "id": "laC4ugRjVf5M"
   },
   "source": [
    "##### 4.B Describe the shape of the histogram."
   ]
  },
  {
   "cell_type": "raw",
   "metadata": {
    "colab_type": "text",
    "id": "2_FSwIVJVf5M"
   },
   "source": [
    "?ANSWER: the histogram is still positively skewed"
   ]
  },
  {
   "cell_type": "markdown",
   "metadata": {
    "colab_type": "text",
    "id": "9oCRfg1YVf5N"
   },
   "source": [
    "##### 5. Simulation with `sample_size=15`"
   ]
  },
  {
   "cell_type": "markdown",
   "metadata": {
    "colab_type": "text",
    "id": "gjtCdkx0Vf5N"
   },
   "source": [
    "let's try taking another 1000 samples, but with a sample size of 15"
   ]
  },
  {
   "cell_type": "code",
   "execution_count": 52,
   "metadata": {
    "colab": {},
    "colab_type": "code",
    "id": "80IQ6Sa-Vf5O"
   },
   "outputs": [
    {
     "data": {
      "image/png": "[encoded data removed]",
      "text/plain": [
       "<Figure size 432x288 with 1 Axes>"
      ]
     },
     "metadata": {
      "needs_background": "light"
     },
     "output_type": "display_data"
    },
    {
     "data": {
      "image/png": "[encoded data removed]",
      "text/plain": [
       "<Figure size 432x288 with 1 Axes>"
      ]
     },
     "metadata": {
      "needs_background": "light"
     },
     "output_type": "display_data"
    }
   ],
   "source": [
    "# ANSWER\n",
    "sample_mean = []\n",
    "for i in range(1000):\n",
    "    sample_mean.append(fies.total_household_income.sample(n=15).mean())\n",
    "\n",
    "sample_mean_new = []\n",
    "for i in range(1000):\n",
    "    sample_mean_new.append(fies_new.total_household_income.sample(n=15).mean())\n",
    "\n",
    "_ = plt.hist(x=sample_mean)\n",
    "plt.show()\n",
    "\n",
    "_ = plt.hist(x=sample_mean_IQR)\n",
    "plt.show()"
   ]
  },
  {
   "cell_type": "markdown",
   "metadata": {
    "colab_type": "text",
    "id": "J8k2KhsQVf5Q"
   },
   "source": [
    "##### 8. Simulation with `sample_size=50`"
   ]
  },
  {
   "cell_type": "markdown",
   "metadata": {
    "colab_type": "text",
    "id": "AAAdK633Vf5R"
   },
   "source": [
    "Let's try taking another 1000 samples, but with a sample size of 50"
   ]
  },
  {
   "cell_type": "code",
   "execution_count": 56,
   "metadata": {
    "colab": {},
    "colab_type": "code",
    "id": "zgj6G2ghVf5R",
    "tags": []
   },
   "outputs": [
    {
     "data": {
      "image/png": "[encoded data removed]",
      "text/plain": [
       "<Figure size 432x288 with 1 Axes>"
      ]
     },
     "metadata": {
      "needs_background": "light"
     },
     "output_type": "display_data"
    },
    {
     "data": {
      "image/png": "[encoded data removed]",
      "text/plain": [
       "<Figure size 432x288 with 1 Axes>"
      ]
     },
     "metadata": {
      "needs_background": "light"
     },
     "output_type": "display_data"
    }
   ],
   "source": [
    "# ANSWER\n",
    "sample_mean = []\n",
    "for i in range(1000):\n",
    "    sample_mean.append(fies.total_household_income.sample(n=50).mean())\n",
    "\n",
    "sample_mean_IQR = []\n",
    "for i in range(1000):\n",
    "    sample_mean_new.append(fies_new.total_household_income.sample(n=50).mean())\n",
    "\n",
    "_ = plt.hist(x=sample_mean,bins=15)\n",
    "plt.show()\n",
    "\n",
    "_ = plt.hist(x=sample_mean_IQR, bins=15)\n",
    "plt.show()"
   ]
  },
  {
   "cell_type": "code",
   "execution_count": 65,
   "metadata": {},
   "outputs": [
    {
     "data": {
      "image/png": "[encoded data removed]",
      "text/plain": [
       "<Figure size 432x288 with 1 Axes>"
      ]
     },
     "metadata": {
      "needs_background": "light"
     },
     "output_type": "display_data"
    },
    {
     "data": {
      "image/png": "[encoded data removed]",
      "text/plain": [
       "<Figure size 432x288 with 1 Axes>"
      ]
     },
     "metadata": {
      "needs_background": "light"
     },
     "output_type": "display_data"
    }
   ],
   "source": [
    "# 1000 samples of sample size 1000\n",
    "sample_mean = []\n",
    "for i in range(1000):\n",
    "    sample_mean.append(fies.total_household_income.sample(n=1000).mean())\n",
    "\n",
    "sample_mean_IQR = []\n",
    "for i in range(1000):\n",
    "    sample_mean_IQR.append(fies_new.total_household_income.sample(n=1000).mean())\n",
    "\n",
    "_ = plt.hist(x=sample_mean,bins=15)\n",
    "plt.show()\n",
    "\n",
    "_ = plt.hist(x=sample_mean_IQR, bins=15)\n",
    "plt.show()"
   ]
  },
  {
   "cell_type": "markdown",
   "metadata": {
    "colab_type": "text",
    "id": "K2iwg-qXVf5T"
   },
   "source": [
    "##### 8.A Describe the shape of the histogram of sample means (using sample size of 50)"
   ]
  },
  {
   "cell_type": "markdown",
   "metadata": {
    "colab_type": "text",
    "id": "WLw5q7TxVf5U"
   },
   "source": [
    "?ANSWER: as we can see the shape start to look more and more like a normal distribution which is in line with the CTL"
   ]
  },
  {
   "cell_type": "markdown",
   "metadata": {
    "colab_type": "text",
    "id": "udgqwlA2Vf5V"
   },
   "source": [
    "##### 8.B What is mean of the distribution of sample means?"
   ]
  },
  {
   "cell_type": "code",
   "execution_count": 66,
   "metadata": {
    "colab": {},
    "colab_type": "code",
    "id": "u9o6BrUOWp_t",
    "outputId": "1674c80a-5964-4de5-8f39-defb4013a60b"
   },
   "outputs": [
    {
     "name": "stdout",
     "output_type": "stream",
     "text": [
      "247397.83399400002\n",
      "118267.95741\n"
     ]
    }
   ],
   "source": [
    "# ANSWER\n",
    "print(np.mean(sample_mean))\n",
    "print(np.mean(sample_mean_IQR))"
   ]
  },
  {
   "cell_type": "markdown",
   "metadata": {
    "colab_type": "text",
    "id": "bmWVLwnyVf5Y"
   },
   "source": [
    "?ANSWER:"
   ]
  },
  {
   "cell_type": "markdown",
   "metadata": {
    "colab_type": "text",
    "id": "Yml6WoZcVf5Z"
   },
   "source": [
    "##### 8.C As the sample size grew, did your results confirm the CLT?"
   ]
  },
  {
   "cell_type": "raw",
   "metadata": {
    "colab_type": "text",
    "id": "PSNXrDxyVf5a"
   },
   "source": [
    "?ANSWER: yes I believe the rule of thumb is not to excede 10% so below i have made a histogram of sample size of 10%"
   ]
  },
  {
   "cell_type": "code",
   "execution_count": 71,
   "metadata": {},
   "outputs": [
    {
     "data": {
      "image/png": "[encoded data removed]",
      "text/plain": [
       "<Figure size 432x288 with 1 Axes>"
      ]
     },
     "metadata": {
      "needs_background": "light"
     },
     "output_type": "display_data"
    },
    {
     "data": {
      "image/png": "[encoded data removed]",
      "text/plain": [
       "<Figure size 432x288 with 1 Axes>"
      ]
     },
     "metadata": {
      "needs_background": "light"
     },
     "output_type": "display_data"
    }
   ],
   "source": [
    "# 1000 samples of sample size 10%\n",
    "sample_mean = []\n",
    "for i in range(1000):\n",
    "    sample_mean.append(fies.total_household_income.sample(n=int(len(fies.total_household_income)*0.1)).mean())\n",
    "\n",
    "sample_mean_IQR = []\n",
    "for i in range(1000):\n",
    "    sample_mean_IQR.append(fies_new.total_household_income.sample(n=int(len(fies.total_household_income)*0.1)).mean())\n",
    "\n",
    "_ = plt.hist(x=sample_mean,bins=15)\n",
    "plt.show()\n",
    "\n",
    "_ = plt.hist(x=sample_mean_IQR, bins=15)\n",
    "plt.show()"
   ]
  },
  {
   "cell_type": "markdown",
   "metadata": {
    "colab_type": "text",
    "id": "ifU4EAcJm0xa"
   },
   "source": [
    "\n",
    "\n",
    "---\n",
    "\n",
    "\n",
    "\n",
    "---\n",
    "\n",
    "\n",
    "\n",
    "> > > > > > > > > © 2021 Institute of Data\n",
    "\n",
    "\n",
    "---\n",
    "\n",
    "\n",
    "\n",
    "---\n",
    "\n",
    "\n",
    "\n"
   ]
  }
 ],
 "metadata": {
  "colab": {
   "collapsed_sections": [],
   "name": "DSIA Lab 3.1.3.ipynb",
   "provenance": []
  },
  "kernelspec": {
   "display_name": "Python 3 (ipykernel)",
   "language": "python",
   "name": "python3"
  },
  "language_info": {
   "codemirror_mode": {
    "name": "ipython",
    "version": 3
   },
   "file_extension": ".py",
   "mimetype": "text/x-python",
   "name": "python",
   "nbconvert_exporter": "python",
   "pygments_lexer": "ipython3",
   "version": "3.9.7"
  }
 },
 "nbformat": 4,
 "nbformat_minor": 4
}
