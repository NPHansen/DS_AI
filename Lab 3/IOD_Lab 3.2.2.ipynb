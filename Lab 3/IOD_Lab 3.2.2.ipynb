{
 "cells": [
  {
   "cell_type": "markdown",
   "metadata": {
    "colab_type": "text",
    "id": "XfnQYVMtJhQD"
   },
   "source": [
    "<div>\n",
    "<img src=https://www.institutedata.com/wp-content/uploads/2019/10/iod_h_tp_primary_c.svg width=\"300\">\n",
    "</div>\n"
   ]
  },
  {
   "cell_type": "markdown",
   "metadata": {
    "colab_type": "text",
    "id": "5dCt8XbjJhQG"
   },
   "source": [
    "# Lab 3.2.2 \n",
    "# *Mining Social Media with Twitter*"
   ]
  },
  {
   "cell_type": "markdown",
   "metadata": {
    "colab_type": "text",
    "id": "b5VfS9hhJhQI"
   },
   "source": [
    "## The Twitter API and Tweepy Package"
   ]
  },
  {
   "cell_type": "markdown",
   "metadata": {
    "colab_type": "text",
    "id": "lF2z-w5uJhQK"
   },
   "source": [
    "The Twitter API provides access to tweets and comments, and allows an application to post tweets to the user's timeline. \n",
    "\n",
    "Twitter requires developers to create and authenticate an app before they can use the API. As of recent policy changes, however, new developers must be approved before they can create an app. There is no indication of the waiting period for approval."
   ]
  },
  {
   "cell_type": "markdown",
   "metadata": {
    "colab_type": "text",
    "id": "M0wxJ8HNJhQM"
   },
   "source": [
    "### 1. Apply for Developer Access\n",
    "\n",
    "Go to https://blog.twitter.com/developer/en_us/topics/tools/2018/new-developer-requirements-to-protect-our-platform.html\n",
    "and read the advice.\n"
   ]
  },
  {
   "cell_type": "markdown",
   "metadata": {
    "colab_type": "text",
    "id": "tICSKwL1JhQN"
   },
   "source": [
    "Apply at https://developer.twitter.com/en/apply-for-access.html. Where asked state that you will use the app as a student to explore the tweepy Python library and use it to fetch recent tweets and to create/delete a tweet."
   ]
  },
  {
   "cell_type": "markdown",
   "metadata": {
    "colab_type": "text",
    "id": "NMeZ70IZJhQR"
   },
   "source": [
    "### 2. Create Your Twitter App\n",
    "Go to https://developer.twitter.com/en/portal/projects-and-apps and click on the \"+ Create App\" button. Give your app a name and then you will be able to generate Consumer Keys (API key & secret) and Authentication Tokens (Access token & secret). Copy-paste these authentication details for use in this lab."
   ]
  },
  {
   "cell_type": "markdown",
   "metadata": {
    "colab_type": "text",
    "id": "HpWMHz9NJhQS"
   },
   "source": [
    "### 3. Load Python Libraries"
   ]
  },
  {
   "cell_type": "code",
   "execution_count": 1,
   "metadata": {
    "colab": {},
    "colab_type": "code",
    "id": "16hb8EpNJhQU"
   },
   "outputs": [],
   "source": [
    "import tweepy\n",
    "import json\n",
    "import pprint"
   ]
  },
  {
   "cell_type": "markdown",
   "metadata": {
    "colab_type": "text",
    "id": "p7W0se6_JhQX"
   },
   "source": [
    "### 4. Authenticate from your Python script"
   ]
  },
  {
   "cell_type": "markdown",
   "metadata": {
    "colab_type": "text",
    "id": "mJfe55dVJhQY"
   },
   "source": [
    "You could assign your authentication details explicitly, as follows:"
   ]
  },
  {
   "cell_type": "code",
   "execution_count": null,
   "metadata": {
    "colab": {},
    "colab_type": "code",
    "id": "aygW7a3eJhQZ"
   },
   "outputs": [],
   "source": [
    "\"\"\"\n",
    "NOT USED FOR PRIVACY REASONS\n",
    "\n",
    "consumer_key = ''      # your consumer key (string) goes in here\n",
    "consumer_secret = ''   # your consumer secret key (string) goes in here\n",
    "access_token = ''      # your access token (string) goes in here\n",
    "access_token_secret = ''  # your access token secret (string) goes in here\"\"\""
   ]
  },
  {
   "cell_type": "markdown",
   "metadata": {
    "colab_type": "text",
    "id": "7LXwmSzOJhQe"
   },
   "source": [
    "A better way would be to store these details externally, so they are not displayed in the notebook:\n",
    "\n",
    "- create a file called \"auth_twitter.json\" in your \"notebooks\" directory, and save your credentials there in JSON format:\n",
    "\n",
    "`{`<br>\n",
    "&nbsp;&nbsp;&nbsp;&nbsp;&nbsp;&nbsp;&nbsp;&nbsp;`   \"consumer_key\": \"your consumer key (string) goes in here\",` <br>\n",
    "&nbsp;&nbsp;&nbsp;&nbsp;&nbsp;&nbsp;&nbsp;&nbsp;` \"consumer_secret\": \"your consumer secret key (string) goes in here\",` <br>\n",
    "&nbsp;&nbsp;&nbsp;&nbsp;&nbsp;&nbsp;&nbsp;&nbsp;`\"access_token\": \"your access token (string) goes in here\",` <br>\n",
    "&nbsp;&nbsp;&nbsp;&nbsp;&nbsp;&nbsp;&nbsp;&nbsp;`\"access_token_secret\": \"your access token secret (string) goes in here\"` <br>\n",
    "`}`\n",
    "\n",
    "(Nb. Parsers are very fussy. Make sure each key:value pair has a comma after it except the last one!)  \n",
    "\n",
    "Use the following code to load the credentials:  "
   ]
  },
  {
   "cell_type": "code",
   "execution_count": null,
   "metadata": {
    "colab": {},
    "colab_type": "code",
    "id": "kh2srKpzJhQh"
   },
   "outputs": [],
   "source": [
    "pwd()  # make sure your working directory is where the file is"
   ]
  },
  {
   "cell_type": "code",
   "execution_count": 21,
   "metadata": {
    "colab": {},
    "colab_type": "code",
    "id": "uR8Vchz7JhQm"
   },
   "outputs": [],
   "source": [
    "path_auth = 'auth.json'\n",
    "auth = json.loads(open(path_auth).read())\n",
    "pp = pprint.PrettyPrinter(indent=4)\n",
    "# For debugging only:\n",
    "#pp.pprint(auth)\n",
    "\n",
    "consumer_key = auth['api_key']\n",
    "consumer_secret = auth['api_secret']\n",
    "access_token = auth['access_token']\n",
    "access_token_secret = auth['access_token_secret']\n",
    "bearer_token = auth['bearer_token']"
   ]
  },
  {
   "cell_type": "markdown",
   "metadata": {
    "colab_type": "text",
    "id": "GPRmYZigJhQp"
   },
   "source": [
    "Security considerations: \n",
    "- this method only keeps your credentials invisible as long as nobody accesses this notebook while it's running on your computer \n",
    "- if you wanted another user to have access to the executable notebook without divulging your credentials you should set up an OAuth 2.0 workflow to let them obtain and apply their own API tokens when using your app\n",
    "- if you just want to share your analyses, you could use a separate script (which you don't share) to fetch the data and save it locally, then use a second notebook (with no API access) to load and analyse the locally stored data"
   ]
  },
  {
   "cell_type": "markdown",
   "metadata": {
    "colab_type": "text",
    "id": "Ln30k0pZJhQp"
   },
   "source": [
    "### 5. Exploring the API"
   ]
  },
  {
   "cell_type": "markdown",
   "metadata": {
    "colab_type": "text",
    "id": "6fsc0U1nJhQq"
   },
   "source": [
    "Here is how to connect to Twitter using the Tweepy library:"
   ]
  },
  {
   "cell_type": "code",
   "execution_count": 22,
   "metadata": {
    "colab": {},
    "colab_type": "code",
    "id": "-y_4GBx1JhQr"
   },
   "outputs": [],
   "source": [
    "auth = tweepy.OAuthHandler(consumer_key, consumer_secret,access_token, access_token_secret)\n",
    "#auth.set_access_token(access_token, access_token_secret)\n",
    "api = tweepy.API(auth)"
   ]
  },
  {
   "cell_type": "markdown",
   "metadata": {
    "colab_type": "text",
    "id": "wSKzR9LdJhQu"
   },
   "source": [
    "In the next cell, put the cursor after the '.' and hit the [tab] key to see the available members and methods in the response object:"
   ]
  },
  {
   "cell_type": "code",
   "execution_count": 23,
   "metadata": {},
   "outputs": [],
   "source": [
    "#set up a new client\n",
    "client = tweepy.Client(bearer_token, consumer_key, consumer_secret, access_token, access_token_secret)"
   ]
  },
  {
   "cell_type": "code",
   "execution_count": 5,
   "metadata": {},
   "outputs": [],
   "source": [
    "#Get a user data\n",
    "handler = client.get_user(username = \"NicolaiPHansen\")"
   ]
  },
  {
   "cell_type": "code",
   "execution_count": 6,
   "metadata": {},
   "outputs": [],
   "source": [
    "handler_id = handler.data.id\n",
    "#get tweets\n",
    "tweets = client.get_users_tweets(id = handler_id)"
   ]
  },
  {
   "cell_type": "code",
   "execution_count": 7,
   "metadata": {},
   "outputs": [
    {
     "data": {
      "text/plain": [
       "[<Tweet id=879587245040193536 text=RT @P4wnyhof: Only 5 Days left for our amazing june community giveaway with @msi_de :O! Follow + rt! #gg #giveaway #msi\n",
       " \n",
       " https://t.co/5aKzU…>,\n",
       " <Tweet id=858168558940979201 text=Relaxing Saturday by the pool, all we need now are some cocktails.… https://t.co/CNSButBLgN>,\n",
       " <Tweet id=799091668179910656 text=Look I can take care of more than one pretty flower becs.travels… https://t.co/EfNmeWBm0q>,\n",
       " <Tweet id=796516158182686720 text=Trump might be the next US president but the world is still… https://t.co/MxgIAgQZWO>,\n",
       " <Tweet id=796129299090776065 text=Found a couple of friends hanging in gardens by the bay @ Gardens by… https://t.co/qekRfHVu9f>,\n",
       " <Tweet id=597431220331540480 text=Worlds best airport security @CPHAirports que starts even before getting in to the security area http://t.co/5PFFIBIY9U>,\n",
       " <Tweet id=584659871393525760 text=Italian craftsmanship 101 build a sturdy door to keep intruders out http://t.co/E27PjBd919>,\n",
       " <Tweet id=584638029450600448 text=Italian craftsmanship 101 build a sturdy bridge for you and your family to use http://t.co/bureBFmAA7>,\n",
       " <Tweet id=582642580090957824 text=@OliverFolkmann @NicolaiPHansen Es ist wahnsinnig aber ich bin ein großer fan!!>,\n",
       " <Tweet id=581350597317754880 text=@OliverFolkmann aberdoch die Folkmann am Twitter. Ich möchte das sehen!!>]"
      ]
     },
     "execution_count": 7,
     "metadata": {},
     "output_type": "execute_result"
    }
   ],
   "source": [
    "#display data in tweets\n",
    "tweets.data"
   ]
  },
  {
   "cell_type": "code",
   "execution_count": 8,
   "metadata": {},
   "outputs": [
    {
     "name": "stdout",
     "output_type": "stream",
     "text": [
      "879587245040193536\n",
      "858168558940979201\n",
      "799091668179910656\n",
      "796516158182686720\n",
      "796129299090776065\n",
      "597431220331540480\n",
      "584659871393525760\n",
      "584638029450600448\n",
      "582642580090957824\n",
      "581350597317754880\n"
     ]
    }
   ],
   "source": [
    "#print the individual tweet ID's\n",
    "for i in tweets.data:\n",
    "    print(i.id)"
   ]
  },
  {
   "cell_type": "code",
   "execution_count": 9,
   "metadata": {
    "colab": {},
    "colab_type": "code",
    "id": "BfnAOR2bJhQv",
    "tags": []
   },
   "outputs": [
    {
     "name": "stdout",
     "output_type": "stream",
     "text": [
      "1485366839546765313\n",
      "1485354115609681920\n",
      "1485344218885373952\n",
      "1485310125682434057\n",
      "1485305233915928580\n"
     ]
    }
   ],
   "source": [
    "#using the api rather than the client to display the id\n",
    "for tweets in api.home_timeline(count = 5):\n",
    "    print(tweets.id)"
   ]
  },
  {
   "cell_type": "markdown",
   "metadata": {
    "colab_type": "text",
    "id": "DcJ-cc6zJhQz"
   },
   "source": [
    "Consult the Tweept and Twitter API documentation. Print a few of the response members below:"
   ]
  },
  {
   "cell_type": "code",
   "execution_count": 10,
   "metadata": {},
   "outputs": [],
   "source": [
    "#Use specific tweet id to retrieve information about a tweet\n",
    "test = client.get_tweet(id = 879587245040193536, expansions = ['author_id'], user_fields = 'username')"
   ]
  },
  {
   "cell_type": "code",
   "execution_count": 11,
   "metadata": {},
   "outputs": [
    {
     "name": "stdout",
     "output_type": "stream",
     "text": [
      "Response(data=<Tweet id=879587245040193536 text=RT @P4wnyhof: Only 5 Days left for our amazing june community giveaway with @msi_de :O! Follow + rt! #gg #giveaway #msi\n",
      "\n",
      "https://t.co/5aKzU…>, includes={'users': [<User id=3094388649 name=Nicolai Plambeck Han username=NicolaiPHansen>]}, errors=[], meta={})\n"
     ]
    }
   ],
   "source": [
    "print(test)"
   ]
  },
  {
   "cell_type": "markdown",
   "metadata": {
    "colab_type": "text",
    "id": "dLkdLKjLJhQ3"
   },
   "source": [
    "This will fetch recent tweets from accounts you follow:"
   ]
  },
  {
   "cell_type": "code",
   "execution_count": 12,
   "metadata": {
    "colab": {},
    "colab_type": "code",
    "id": "l9y8t3X7JhQ4"
   },
   "outputs": [
    {
     "name": "stdout",
     "output_type": "stream",
     "text": [
      "Tiempo Río de la Plata\n",
      "https://t.co/SEc55gtXe0 https://t.co/oZi5yvwWFc\n",
      "75-year-old Frenchman found dead after trying to cross the Atlantic in a canoe https://t.co/8xcd8FDKNg vía @NAUTICA… https://t.co/OMNFJrCgJj\n",
      "RT @jacobkjaernoer: Test all you can. It’s a mistake not to! @EsbenBjerre @peterfalktoft https://t.co/GeKdpUm1JW\n",
      "Hearthone Arena charity Marathon is floating through my mind since seeing @summit1g enjoy arena again 😅\n",
      "Ab aufs Schlachtfeld - mit unseren neuesten \"Waffen\" 🔥\n",
      "\n",
      "🔥 MAG B660M BAZOOKA DDR4\n",
      "🔥 MAG VAMPIRIC 300R MIDNIGHT GREEN… https://t.co/L1sHraZPE1\n",
      "Numbers down bad on #warzone youtube\n",
      "\n",
      "Still making a video every day?\n",
      "\n",
      "Hell jeah \n",
      "\n",
      "This gunsmith has so much more t… https://t.co/ux39QZz5Y0\n",
      "Nej, Lisan Al-Ghaib😭\n",
      "75-year-old Frenchman found dead after trying to cross the Atlantic in a canoe https://t.co/8xcd8FDKNg vía @NAUTICA… https://t.co/Kc9QkcoEgj\n",
      "75-year-old Frenchman found dead after trying to cross the Atlantic in a canoe - https://t.co/rDq7y33Wfd NEWS https://t.co/MuPuyyrl0L\n",
      "Encuentran muerto al francés de 75 años que intentaba cruzar el Atlántico en una  canoa\n",
      "https://t.co/h3HhKjsudY https://t.co/7odgo8IKLt\n",
      "Sirs and Dames of the Round Stable\n",
      "\n",
      "Gather up for @PUBG TPP Action!\n",
      "\n",
      "It begins now -&gt; https://t.co/HMPoRcB9Lj\n",
      "\n",
      "Stre… https://t.co/GybDk5thFS\n",
      "Sign me @redbullGER thank you\n",
      "\n",
      "@PUBG bikes are still the most fun vehicle in all games\n",
      "\n",
      "https://t.co/4dzCt24m3v https://t.co/ABOrIIKZJC\n",
      "This video was fun and pain at the same time to record #warzone\n",
      "\n",
      "Video dropping in 2 hours https://t.co/h3mAugwEfF\n",
      "Nfts might be useful in the future\n",
      "\n",
      "Right now?\n",
      "\n",
      "Perceived cool kids club that costs quite some money to enter and m… https://t.co/60bFwxoRQe\n",
      "El Ojo – The circular island that moves by itself https://t.co/0TwDgBNAGh vía @NAUTICA NEWS https://t.co/cA8Wt6ZP4j\n",
      "Costa Atlántica - Tiempo y pronostico extendido. https://t.co/R9Afpicn51 https://t.co/Qz0ydtI1aQ\n",
      "Radar de Tormentas en el Río de la Plata\n",
      "https://t.co/SEc55gtXe0 https://t.co/Oy648UAMEm\n",
      "Tiempo Río de la Plata\n",
      "https://t.co/SEc55gtXe0 https://t.co/JoUvkjf5c4\n",
      "Two weeks into the RORC Transatlantic Race - https://t.co/fxVFqMyQcW NEWS https://t.co/e3TJsF5Wi7\n",
      "RT @TheDailyShow: Here’s what really caught @francis_ngannou off guard about American culture https://t.co/6aflD607HO\n"
     ]
    }
   ],
   "source": [
    "# Recent tweets from accounts you follow:\n",
    "tweets = api.home_timeline()\n",
    "for tweet in tweets:\n",
    "    print(tweet.text)"
   ]
  },
  {
   "cell_type": "markdown",
   "metadata": {
    "colab_type": "text",
    "id": "k2NpPlOIJhQ6"
   },
   "source": [
    "The request to see your own recent tweets is similar, but uses the `user_timeline` endpoint. Try this below:"
   ]
  },
  {
   "cell_type": "code",
   "execution_count": 13,
   "metadata": {
    "colab": {},
    "colab_type": "code",
    "id": "QMlhdx5NJhQ6"
   },
   "outputs": [
    {
     "name": "stdout",
     "output_type": "stream",
     "text": [
      "RT @P4wnyhof: Only 5 Days left for our amazing june community giveaway with @msi_de :O! Follow + rt! #gg #giveaway #msi\n",
      "\n",
      "https://t.co/5aKzU…\n",
      "Relaxing Saturday by the pool, all we need now are some cocktails.… https://t.co/CNSButBLgN\n",
      "Look I can take care of more than one pretty flower becs.travels… https://t.co/EfNmeWBm0q\n",
      "Trump might be the next US president but the world is still… https://t.co/MxgIAgQZWO\n",
      "Found a couple of friends hanging in gardens by the bay @ Gardens by… https://t.co/qekRfHVu9f\n",
      "Worlds best airport security @CPHAirports que starts even before getting in to the security area http://t.co/5PFFIBIY9U\n",
      "Italian craftsmanship 101 build a sturdy door to keep intruders out http://t.co/E27PjBd919\n",
      "Italian craftsmanship 101 build a sturdy bridge for you and your family to use http://t.co/bureBFmAA7\n",
      "@OliverFolkmann @NicolaiPHansen Es ist wahnsinnig aber ich bin ein großer fan!!\n",
      "@OliverFolkmann aberdoch die Folkmann am Twitter. Ich möchte das sehen!!\n",
      "@helmbaek oh yeah\n",
      "@ThamesWaterJobs Thank you so much. Still a few interview steps away from turning into J.J. Abrams thou. #asktwgrads\n",
      "@ThamesWaterJobs What should be the content of the two minute film to be presented for the assessment centre? #asktwgrads\n"
     ]
    }
   ],
   "source": [
    "#Tweets made by user him/her self\n",
    "tweets = api.user_timeline()\n",
    "for tweets in tweets:\n",
    "    print(tweets.text)"
   ]
  },
  {
   "cell_type": "markdown",
   "metadata": {
    "colab_type": "text",
    "id": "qY7oM-lJJhQ8"
   },
   "source": [
    "Now, instead of printing the text of each tweet, print the `created_at` and `id_str` methods:"
   ]
  },
  {
   "cell_type": "code",
   "execution_count": 14,
   "metadata": {
    "colab": {},
    "colab_type": "code",
    "id": "aUOlNdG8JhQ9"
   },
   "outputs": [
    {
     "name": "stdout",
     "output_type": "stream",
     "text": [
      "Tweet created at: 2017-06-27 06:28:35+00:00, tweet ID: 879587245040193536\n",
      "Tweet created at: 2017-04-29 03:58:23+00:00, tweet ID: 858168558940979201\n",
      "Tweet created at: 2016-11-17 03:27:54+00:00, tweet ID: 799091668179910656\n",
      "Tweet created at: 2016-11-10 00:53:45+00:00, tweet ID: 796516158182686720\n",
      "Tweet created at: 2016-11-08 23:16:30+00:00, tweet ID: 796129299090776065\n",
      "Tweet created at: 2015-05-10 16:01:17+00:00, tweet ID: 597431220331540480\n",
      "Tweet created at: 2015-04-05 10:12:30+00:00, tweet ID: 584659871393525760\n",
      "Tweet created at: 2015-04-05 08:45:42+00:00, tweet ID: 584638029450600448\n",
      "Tweet created at: 2015-03-30 20:36:30+00:00, tweet ID: 582642580090957824\n",
      "Tweet created at: 2015-03-27 07:02:38+00:00, tweet ID: 581350597317754880\n",
      "Tweet created at: 2015-03-19 18:12:50+00:00, tweet ID: 578620159717466112\n",
      "Tweet created at: 2015-03-18 13:39:45+00:00, tweet ID: 578189046624714752\n",
      "Tweet created at: 2015-03-18 13:19:22+00:00, tweet ID: 578183917422927872\n"
     ]
    }
   ],
   "source": [
    "tweets = api.user_timeline()\n",
    "for tweets in tweets:\n",
    "    print(f'Tweet created at: {tweets.created_at}, tweet ID: {tweets.id_str}')"
   ]
  },
  {
   "cell_type": "code",
   "execution_count": 26,
   "metadata": {},
   "outputs": [],
   "source": [
    "#setting up handler to get id\n",
    "handler = 'NicolaiPHansen'\n",
    "handler_id = client.get_user(username = \"NicolaiPHansen\").data.id"
   ]
  },
  {
   "cell_type": "code",
   "execution_count": 30,
   "metadata": {
    "tags": []
   },
   "outputs": [],
   "source": [
    "tweets = client.get_users_tweets(id = handler_id, tweet_fields = ['author_id', 'created_at'])"
   ]
  },
  {
   "cell_type": "code",
   "execution_count": 31,
   "metadata": {},
   "outputs": [
    {
     "data": {
      "text/plain": [
       "[<Tweet id=879587245040193536 text=RT @P4wnyhof: Only 5 Days left for our amazing june community giveaway with @msi_de :O! Follow + rt! #gg #giveaway #msi\n",
       " \n",
       " https://t.co/5aKzU…>,\n",
       " <Tweet id=858168558940979201 text=Relaxing Saturday by the pool, all we need now are some cocktails.… https://t.co/CNSButBLgN>,\n",
       " <Tweet id=799091668179910656 text=Look I can take care of more than one pretty flower becs.travels… https://t.co/EfNmeWBm0q>,\n",
       " <Tweet id=796516158182686720 text=Trump might be the next US president but the world is still… https://t.co/MxgIAgQZWO>,\n",
       " <Tweet id=796129299090776065 text=Found a couple of friends hanging in gardens by the bay @ Gardens by… https://t.co/qekRfHVu9f>,\n",
       " <Tweet id=597431220331540480 text=Worlds best airport security @CPHAirports que starts even before getting in to the security area http://t.co/5PFFIBIY9U>,\n",
       " <Tweet id=584659871393525760 text=Italian craftsmanship 101 build a sturdy door to keep intruders out http://t.co/E27PjBd919>,\n",
       " <Tweet id=584638029450600448 text=Italian craftsmanship 101 build a sturdy bridge for you and your family to use http://t.co/bureBFmAA7>,\n",
       " <Tweet id=582642580090957824 text=@OliverFolkmann @NicolaiPHansen Es ist wahnsinnig aber ich bin ein großer fan!!>,\n",
       " <Tweet id=581350597317754880 text=@OliverFolkmann aberdoch die Folkmann am Twitter. Ich möchte das sehen!!>]"
      ]
     },
     "execution_count": 31,
     "metadata": {},
     "output_type": "execute_result"
    }
   ],
   "source": [
    "tweets.data"
   ]
  },
  {
   "cell_type": "markdown",
   "metadata": {
    "colab_type": "text",
    "id": "3PibchrmJhQ-"
   },
   "source": [
    "You can create a tweet as follows:"
   ]
  },
  {
   "cell_type": "code",
   "execution_count": 24,
   "metadata": {
    "colab": {},
    "colab_type": "code",
    "id": "IwzTjf1gJhQ_"
   },
   "outputs": [],
   "source": [
    "# create a tweet (using the clint (V2)):\n",
    "tweet = client.create_tweet(text = 'This was created with tweepy')"
   ]
  },
  {
   "cell_type": "markdown",
   "metadata": {
    "colab_type": "text",
    "id": "TtlXvbjoJhRB"
   },
   "source": [
    "(Nb. Don't abuse this feature! If you try to generate a zillion tweets in a loop, Twitter will ban youur account.)"
   ]
  },
  {
   "cell_type": "markdown",
   "metadata": {
    "colab_type": "text",
    "id": "awUIiruTJhRB"
   },
   "source": [
    "Tweets can be deleted by reference to their `id_str` attribute:"
   ]
  },
  {
   "cell_type": "code",
   "execution_count": 29,
   "metadata": {
    "colab": {},
    "colab_type": "code",
    "id": "tKPSCOEBJhRC"
   },
   "outputs": [],
   "source": [
    "# delete a tweet:\n",
    "status = client.delete_tweet(1485421348461883392)"
   ]
  },
  {
   "cell_type": "markdown",
   "metadata": {
    "colab_type": "text",
    "id": "hEt9NWJBJhRE"
   },
   "source": [
    "You can follow a Tweeter:"
   ]
  },
  {
   "cell_type": "code",
   "execution_count": 33,
   "metadata": {
    "colab": {},
    "colab_type": "code",
    "id": "CDWxR8wOJhRF"
   },
   "outputs": [
    {
     "data": {
      "text/plain": [
       "User(_api=<tweepy.api.API object at 0x7fbf49bdd700>, _json={'id': 10228272, 'id_str': '10228272', 'name': 'YouTube', 'screen_name': 'YouTube', 'location': 'San Bruno, CA', 'description': 'like and subscribe.', 'url': 'https://t.co/bUisN3Gqbw', 'entities': {'url': {'urls': [{'url': 'https://t.co/bUisN3Gqbw', 'expanded_url': 'http://youtube.com', 'display_url': 'youtube.com', 'indices': [0, 23]}]}, 'description': {'urls': []}}, 'protected': False, 'followers_count': 74087217, 'friends_count': 1206, 'listed_count': 79775, 'created_at': 'Tue Nov 13 21:43:46 +0000 2007', 'favourites_count': 5953, 'utc_offset': None, 'time_zone': None, 'geo_enabled': False, 'verified': True, 'statuses_count': 41623, 'lang': None, 'status': {'created_at': 'Mon Jan 24 01:11:51 +0000 2022', 'id': 1485420047103410176, 'id_str': '1485420047103410176', 'text': '@WalklateElla the retro arcade style is def a vibe! 🕹🎶', 'truncated': False, 'entities': {'hashtags': [], 'symbols': [], 'user_mentions': [{'screen_name': 'WalklateElla', 'name': 'Ella Walklate', 'id': 1482490630408650752, 'id_str': '1482490630408650752', 'indices': [0, 13]}], 'urls': []}, 'source': '<a href=\"https://www.sprinklr.com\" rel=\"nofollow\">Sprinklr</a>', 'in_reply_to_status_id': 1485175960177881092, 'in_reply_to_status_id_str': '1485175960177881092', 'in_reply_to_user_id': 1482490630408650752, 'in_reply_to_user_id_str': '1482490630408650752', 'in_reply_to_screen_name': 'WalklateElla', 'geo': None, 'coordinates': None, 'place': None, 'contributors': None, 'is_quote_status': False, 'retweet_count': 0, 'favorite_count': 0, 'favorited': False, 'retweeted': False, 'lang': 'en'}, 'contributors_enabled': False, 'is_translator': False, 'is_translation_enabled': True, 'profile_background_color': 'AF0000', 'profile_background_image_url': 'http://abs.twimg.com/images/themes/theme14/bg.gif', 'profile_background_image_url_https': 'https://abs.twimg.com/images/themes/theme14/bg.gif', 'profile_background_tile': True, 'profile_image_url': 'http://pbs.twimg.com/profile_images/1427292844612595720/RC1YSvuT_normal.jpg', 'profile_image_url_https': 'https://pbs.twimg.com/profile_images/1427292844612595720/RC1YSvuT_normal.jpg', 'profile_banner_url': 'https://pbs.twimg.com/profile_banners/10228272/1635870163', 'profile_link_color': 'C9191D', 'profile_sidebar_border_color': '000000', 'profile_sidebar_fill_color': 'EFEFEF', 'profile_text_color': '333333', 'profile_use_background_image': True, 'has_extended_profile': False, 'default_profile': False, 'default_profile_image': False, 'following': False, 'follow_request_sent': False, 'notifications': False, 'muting': False, 'translator_type': 'regular', 'withheld_in_countries': []}, id=10228272, id_str='10228272', name='YouTube', screen_name='YouTube', location='San Bruno, CA', description='like and subscribe.', url='https://t.co/bUisN3Gqbw', entities={'url': {'urls': [{'url': 'https://t.co/bUisN3Gqbw', 'expanded_url': 'http://youtube.com', 'display_url': 'youtube.com', 'indices': [0, 23]}]}, 'description': {'urls': []}}, protected=False, followers_count=74087217, friends_count=1206, listed_count=79775, created_at=datetime.datetime(2007, 11, 13, 21, 43, 46, tzinfo=datetime.timezone.utc), favourites_count=5953, utc_offset=None, time_zone=None, geo_enabled=False, verified=True, statuses_count=41623, lang=None, status=Status(_api=<tweepy.api.API object at 0x7fbf49bdd700>, _json={'created_at': 'Mon Jan 24 01:11:51 +0000 2022', 'id': 1485420047103410176, 'id_str': '1485420047103410176', 'text': '@WalklateElla the retro arcade style is def a vibe! 🕹🎶', 'truncated': False, 'entities': {'hashtags': [], 'symbols': [], 'user_mentions': [{'screen_name': 'WalklateElla', 'name': 'Ella Walklate', 'id': 1482490630408650752, 'id_str': '1482490630408650752', 'indices': [0, 13]}], 'urls': []}, 'source': '<a href=\"https://www.sprinklr.com\" rel=\"nofollow\">Sprinklr</a>', 'in_reply_to_status_id': 1485175960177881092, 'in_reply_to_status_id_str': '1485175960177881092', 'in_reply_to_user_id': 1482490630408650752, 'in_reply_to_user_id_str': '1482490630408650752', 'in_reply_to_screen_name': 'WalklateElla', 'geo': None, 'coordinates': None, 'place': None, 'contributors': None, 'is_quote_status': False, 'retweet_count': 0, 'favorite_count': 0, 'favorited': False, 'retweeted': False, 'lang': 'en'}, created_at=datetime.datetime(2022, 1, 24, 1, 11, 51, tzinfo=datetime.timezone.utc), id=1485420047103410176, id_str='1485420047103410176', text='@WalklateElla the retro arcade style is def a vibe! 🕹🎶', truncated=False, entities={'hashtags': [], 'symbols': [], 'user_mentions': [{'screen_name': 'WalklateElla', 'name': 'Ella Walklate', 'id': 1482490630408650752, 'id_str': '1482490630408650752', 'indices': [0, 13]}], 'urls': []}, source='Sprinklr', source_url='https://www.sprinklr.com', in_reply_to_status_id=1485175960177881092, in_reply_to_status_id_str='1485175960177881092', in_reply_to_user_id=1482490630408650752, in_reply_to_user_id_str='1482490630408650752', in_reply_to_screen_name='WalklateElla', geo=None, coordinates=None, place=None, contributors=None, is_quote_status=False, retweet_count=0, favorite_count=0, favorited=False, retweeted=False, lang='en'), contributors_enabled=False, is_translator=False, is_translation_enabled=True, profile_background_color='AF0000', profile_background_image_url='http://abs.twimg.com/images/themes/theme14/bg.gif', profile_background_image_url_https='https://abs.twimg.com/images/themes/theme14/bg.gif', profile_background_tile=True, profile_image_url='http://pbs.twimg.com/profile_images/1427292844612595720/RC1YSvuT_normal.jpg', profile_image_url_https='https://pbs.twimg.com/profile_images/1427292844612595720/RC1YSvuT_normal.jpg', profile_banner_url='https://pbs.twimg.com/profile_banners/10228272/1635870163', profile_link_color='C9191D', profile_sidebar_border_color='000000', profile_sidebar_fill_color='EFEFEF', profile_text_color='333333', profile_use_background_image=True, has_extended_profile=False, default_profile=False, default_profile_image=False, following=False, follow_request_sent=False, notifications=False, muting=False, translator_type='regular', withheld_in_countries=[])"
      ]
     },
     "execution_count": 33,
     "metadata": {},
     "output_type": "execute_result"
    }
   ],
   "source": [
    "# follow:\n",
    "api.create_friendship(screen_name = '@YouTube')"
   ]
  },
  {
   "cell_type": "markdown",
   "metadata": {
    "colab_type": "text",
    "id": "Nbp2vRONJhRH"
   },
   "source": [
    "or unfollow:"
   ]
  },
  {
   "cell_type": "code",
   "execution_count": 35,
   "metadata": {
    "colab": {},
    "colab_type": "code",
    "id": "wCsNNVT9JhRH"
   },
   "outputs": [
    {
     "data": {
      "text/plain": [
       "User(_api=<tweepy.api.API object at 0x7fbf49bdd700>, _json={'id': 10228272, 'id_str': '10228272', 'name': 'YouTube', 'screen_name': 'YouTube', 'location': 'San Bruno, CA', 'description': 'like and subscribe.', 'url': 'https://t.co/bUisN3Gqbw', 'entities': {'url': {'urls': [{'url': 'https://t.co/bUisN3Gqbw', 'expanded_url': 'http://youtube.com', 'display_url': 'youtube.com', 'indices': [0, 23]}]}, 'description': {'urls': []}}, 'protected': False, 'followers_count': 74087222, 'friends_count': 1206, 'listed_count': 79775, 'created_at': 'Tue Nov 13 21:43:46 +0000 2007', 'favourites_count': 5953, 'utc_offset': None, 'time_zone': None, 'geo_enabled': False, 'verified': True, 'statuses_count': 41623, 'lang': None, 'status': {'created_at': 'Mon Jan 24 01:11:51 +0000 2022', 'id': 1485420047103410176, 'id_str': '1485420047103410176', 'text': '@WalklateElla the retro arcade style is def a vibe! 🕹🎶', 'truncated': False, 'entities': {'hashtags': [], 'symbols': [], 'user_mentions': [{'screen_name': 'WalklateElla', 'name': 'Ella Walklate', 'id': 1482490630408650752, 'id_str': '1482490630408650752', 'indices': [0, 13]}], 'urls': []}, 'source': '<a href=\"https://www.sprinklr.com\" rel=\"nofollow\">Sprinklr</a>', 'in_reply_to_status_id': 1485175960177881092, 'in_reply_to_status_id_str': '1485175960177881092', 'in_reply_to_user_id': 1482490630408650752, 'in_reply_to_user_id_str': '1482490630408650752', 'in_reply_to_screen_name': 'WalklateElla', 'geo': None, 'coordinates': None, 'place': None, 'contributors': None, 'is_quote_status': False, 'retweet_count': 0, 'favorite_count': 0, 'favorited': False, 'retweeted': False, 'lang': 'en'}, 'contributors_enabled': False, 'is_translator': False, 'is_translation_enabled': True, 'profile_background_color': 'AF0000', 'profile_background_image_url': 'http://abs.twimg.com/images/themes/theme14/bg.gif', 'profile_background_image_url_https': 'https://abs.twimg.com/images/themes/theme14/bg.gif', 'profile_background_tile': True, 'profile_image_url': 'http://pbs.twimg.com/profile_images/1427292844612595720/RC1YSvuT_normal.jpg', 'profile_image_url_https': 'https://pbs.twimg.com/profile_images/1427292844612595720/RC1YSvuT_normal.jpg', 'profile_banner_url': 'https://pbs.twimg.com/profile_banners/10228272/1635870163', 'profile_link_color': 'C9191D', 'profile_sidebar_border_color': '000000', 'profile_sidebar_fill_color': 'EFEFEF', 'profile_text_color': '333333', 'profile_use_background_image': True, 'has_extended_profile': False, 'default_profile': False, 'default_profile_image': False, 'following': True, 'follow_request_sent': False, 'notifications': False, 'muting': False, 'translator_type': 'regular', 'withheld_in_countries': []}, id=10228272, id_str='10228272', name='YouTube', screen_name='YouTube', location='San Bruno, CA', description='like and subscribe.', url='https://t.co/bUisN3Gqbw', entities={'url': {'urls': [{'url': 'https://t.co/bUisN3Gqbw', 'expanded_url': 'http://youtube.com', 'display_url': 'youtube.com', 'indices': [0, 23]}]}, 'description': {'urls': []}}, protected=False, followers_count=74087222, friends_count=1206, listed_count=79775, created_at=datetime.datetime(2007, 11, 13, 21, 43, 46, tzinfo=datetime.timezone.utc), favourites_count=5953, utc_offset=None, time_zone=None, geo_enabled=False, verified=True, statuses_count=41623, lang=None, status=Status(_api=<tweepy.api.API object at 0x7fbf49bdd700>, _json={'created_at': 'Mon Jan 24 01:11:51 +0000 2022', 'id': 1485420047103410176, 'id_str': '1485420047103410176', 'text': '@WalklateElla the retro arcade style is def a vibe! 🕹🎶', 'truncated': False, 'entities': {'hashtags': [], 'symbols': [], 'user_mentions': [{'screen_name': 'WalklateElla', 'name': 'Ella Walklate', 'id': 1482490630408650752, 'id_str': '1482490630408650752', 'indices': [0, 13]}], 'urls': []}, 'source': '<a href=\"https://www.sprinklr.com\" rel=\"nofollow\">Sprinklr</a>', 'in_reply_to_status_id': 1485175960177881092, 'in_reply_to_status_id_str': '1485175960177881092', 'in_reply_to_user_id': 1482490630408650752, 'in_reply_to_user_id_str': '1482490630408650752', 'in_reply_to_screen_name': 'WalklateElla', 'geo': None, 'coordinates': None, 'place': None, 'contributors': None, 'is_quote_status': False, 'retweet_count': 0, 'favorite_count': 0, 'favorited': False, 'retweeted': False, 'lang': 'en'}, created_at=datetime.datetime(2022, 1, 24, 1, 11, 51, tzinfo=datetime.timezone.utc), id=1485420047103410176, id_str='1485420047103410176', text='@WalklateElla the retro arcade style is def a vibe! 🕹🎶', truncated=False, entities={'hashtags': [], 'symbols': [], 'user_mentions': [{'screen_name': 'WalklateElla', 'name': 'Ella Walklate', 'id': 1482490630408650752, 'id_str': '1482490630408650752', 'indices': [0, 13]}], 'urls': []}, source='Sprinklr', source_url='https://www.sprinklr.com', in_reply_to_status_id=1485175960177881092, in_reply_to_status_id_str='1485175960177881092', in_reply_to_user_id=1482490630408650752, in_reply_to_user_id_str='1482490630408650752', in_reply_to_screen_name='WalklateElla', geo=None, coordinates=None, place=None, contributors=None, is_quote_status=False, retweet_count=0, favorite_count=0, favorited=False, retweeted=False, lang='en'), contributors_enabled=False, is_translator=False, is_translation_enabled=True, profile_background_color='AF0000', profile_background_image_url='http://abs.twimg.com/images/themes/theme14/bg.gif', profile_background_image_url_https='https://abs.twimg.com/images/themes/theme14/bg.gif', profile_background_tile=True, profile_image_url='http://pbs.twimg.com/profile_images/1427292844612595720/RC1YSvuT_normal.jpg', profile_image_url_https='https://pbs.twimg.com/profile_images/1427292844612595720/RC1YSvuT_normal.jpg', profile_banner_url='https://pbs.twimg.com/profile_banners/10228272/1635870163', profile_link_color='C9191D', profile_sidebar_border_color='000000', profile_sidebar_fill_color='EFEFEF', profile_text_color='333333', profile_use_background_image=True, has_extended_profile=False, default_profile=False, default_profile_image=False, following=True, follow_request_sent=False, notifications=False, muting=False, translator_type='regular', withheld_in_countries=[])"
      ]
     },
     "execution_count": 35,
     "metadata": {},
     "output_type": "execute_result"
    }
   ],
   "source": [
    "# unfollow:\n",
    "api.destroy_friendship(screen_name = '@YouTube')"
   ]
  },
  {
   "cell_type": "code",
   "execution_count": null,
   "metadata": {
    "colab": {},
    "colab_type": "code",
    "id": "ND4BmdkvJhRJ"
   },
   "outputs": [],
   "source": []
  },
  {
   "cell_type": "markdown",
   "metadata": {
    "colab_type": "text",
    "id": "59l7EOATJrJO"
   },
   "source": [
    "\n",
    "\n",
    "---\n",
    "\n",
    "\n",
    "\n",
    "---\n",
    "\n",
    "\n",
    "\n",
    "> > > > > > > > > © 2021 Institute of Data\n",
    "\n",
    "\n",
    "---\n",
    "\n",
    "\n",
    "\n",
    "---\n",
    "\n",
    "\n",
    "\n"
   ]
  }
 ],
 "metadata": {
  "colab": {
   "collapsed_sections": [],
   "name": "DSIA Lab 2.2.2.ipynb",
   "provenance": []
  },
  "kernelspec": {
   "display_name": "Python 3 (ipykernel)",
   "language": "python",
   "name": "python3"
  },
  "language_info": {
   "codemirror_mode": {
    "name": "ipython",
    "version": 3
   },
   "file_extension": ".py",
   "mimetype": "text/x-python",
   "name": "python",
   "nbconvert_exporter": "python",
   "pygments_lexer": "ipython3",
   "version": "3.9.7"
  }
 },
 "nbformat": 4,
 "nbformat_minor": 4
}
