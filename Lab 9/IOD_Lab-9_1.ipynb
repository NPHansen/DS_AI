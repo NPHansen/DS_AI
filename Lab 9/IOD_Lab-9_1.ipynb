{
 "cells": [
  {
   "cell_type": "markdown",
   "metadata": {
    "colab_type": "text",
    "id": "gn3SG1yo1KdV"
   },
   "source": [
    "<div>\n",
    "<img src=https://www.institutedata.com/wp-content/uploads/2019/10/iod_h_tp_primary_c.svg width=\"300\">\n",
    "</div>"
   ]
  },
  {
   "cell_type": "markdown",
   "metadata": {
    "colab_type": "text",
    "id": "g-SD7a9X1KdY"
   },
   "source": [
    "# Lab 9.1: NN with Keras\n",
    "INSTRUCTIONS:\n",
    "- Read the guides and hints, then create the necessary analysis and code to find an answer and conclusion for the task below.\n",
    "- **NOTE**: This is a Regression problem. Consider the appropriate:\n",
    "    - Activation function\n",
    "    - Loss/Cost Function\n",
    "    - Metrics"
   ]
  },
  {
   "cell_type": "markdown",
   "metadata": {
    "colab_type": "text",
    "id": "ENgfRnvL1Kdc"
   },
   "source": [
    "### Import libraries"
   ]
  },
  {
   "cell_type": "code",
   "execution_count": 2,
   "metadata": {
    "colab": {},
    "colab_type": "code",
    "id": "Z9H465X-1Kde"
   },
   "outputs": [],
   "source": [
    "import numpy as np\n",
    "\n",
    "%matplotlib inline\n",
    "import matplotlib.pyplot as plt\n",
    "\n",
    "from sklearn.datasets import load_diabetes\n",
    "from sklearn.metrics import confusion_matrix\n",
    "from sklearn.model_selection import train_test_split\n",
    "\n",
    "# import keras\n",
    "from keras.models import Sequential\n",
    "from keras.layers import Dense\n",
    "\n",
    "# import from tensorflow\n",
    "from tensorflow.keras.utils import to_categorical"
   ]
  },
  {
   "cell_type": "markdown",
   "metadata": {
    "colab_type": "text",
    "id": "5FHh910J1Kdm"
   },
   "source": [
    "### Load data\n",
    "Load the Diabetes dataset from **SciKit-Learn**."
   ]
  },
  {
   "cell_type": "code",
   "execution_count": 7,
   "metadata": {
    "colab": {},
    "colab_type": "code",
    "id": "MWu8SlQF1Kdo"
   },
   "outputs": [],
   "source": [
    "Diabetes = load_diabetes()"
   ]
  },
  {
   "cell_type": "code",
   "execution_count": 9,
   "metadata": {},
   "outputs": [
    {
     "name": "stdout",
     "output_type": "stream",
     "text": [
      ".. _diabetes_dataset:\n",
      "\n",
      "Diabetes dataset\n",
      "----------------\n",
      "\n",
      "Ten baseline variables, age, sex, body mass index, average blood\n",
      "pressure, and six blood serum measurements were obtained for each of n =\n",
      "442 diabetes patients, as well as the response of interest, a\n",
      "quantitative measure of disease progression one year after baseline.\n",
      "\n",
      "**Data Set Characteristics:**\n",
      "\n",
      "  :Number of Instances: 442\n",
      "\n",
      "  :Number of Attributes: First 10 columns are numeric predictive values\n",
      "\n",
      "  :Target: Column 11 is a quantitative measure of disease progression one year after baseline\n",
      "\n",
      "  :Attribute Information:\n",
      "      - age     age in years\n",
      "      - sex\n",
      "      - bmi     body mass index\n",
      "      - bp      average blood pressure\n",
      "      - s1      tc, total serum cholesterol\n",
      "      - s2      ldl, low-density lipoproteins\n",
      "      - s3      hdl, high-density lipoproteins\n",
      "      - s4      tch, total cholesterol / HDL\n",
      "      - s5      ltg, possibly log of serum triglycerides level\n",
      "      - s6      glu, blood sugar level\n",
      "\n",
      "Note: Each of these 10 feature variables have been mean centered and scaled by the standard deviation times `n_samples` (i.e. the sum of squares of each column totals 1).\n",
      "\n",
      "Source URL:\n",
      "https://www4.stat.ncsu.edu/~boos/var.select/diabetes.html\n",
      "\n",
      "For more information see:\n",
      "Bradley Efron, Trevor Hastie, Iain Johnstone and Robert Tibshirani (2004) \"Least Angle Regression,\" Annals of Statistics (with discussion), 407-499.\n",
      "(https://web.stanford.edu/~hastie/Papers/LARS/LeastAngle_2002.pdf)\n"
     ]
    }
   ],
   "source": [
    "print(Diabetes.DESCR)"
   ]
  },
  {
   "cell_type": "markdown",
   "metadata": {
    "colab_type": "text",
    "id": "xR_yLpR01Kdr"
   },
   "source": [
    "### Prepare input data"
   ]
  },
  {
   "cell_type": "code",
   "execution_count": 39,
   "metadata": {
    "colab": {},
    "colab_type": "code",
    "id": "Sp2mf2bB1Kds"
   },
   "outputs": [
    {
     "name": "stdout",
     "output_type": "stream",
     "text": [
      "Independent variables\n",
      "Observations: 442\n",
      "Features: 10\n",
      "\n",
      "Target observations: 442\n"
     ]
    }
   ],
   "source": [
    "# Independent variables\n",
    "X = Diabetes.data\n",
    "print(f'Independent variables\\nObservations: {X.shape[0]}\\nFeatures: {X.shape[1]}\\n')\n",
    "\n",
    "#save nr of columns\n",
    "n_col = X.shape[1]\n",
    "\n",
    "#target variable\n",
    "y = Diabetes.target\n",
    "print(f'Target observations: {y.shape[0]}')\n"
   ]
  },
  {
   "cell_type": "markdown",
   "metadata": {
    "colab_type": "text",
    "id": "j1Vsh6cm1Kdv"
   },
   "source": [
    "### Split the data (training/test)"
   ]
  },
  {
   "cell_type": "code",
   "execution_count": 79,
   "metadata": {
    "colab": {},
    "colab_type": "code",
    "id": "O341llJz1Kdw"
   },
   "outputs": [],
   "source": [
    "X_train, X_test, y_train, y_test = train_test_split(X, y, test_size = 0.2, random_state = 101)"
   ]
  },
  {
   "cell_type": "code",
   "execution_count": 80,
   "metadata": {},
   "outputs": [
    {
     "data": {
      "text/plain": [
       "((353, 10), (89, 10))"
      ]
     },
     "execution_count": 80,
     "metadata": {},
     "output_type": "execute_result"
    }
   ],
   "source": [
    "X_train.shape, X_test.shape"
   ]
  },
  {
   "cell_type": "code",
   "execution_count": 81,
   "metadata": {},
   "outputs": [
    {
     "data": {
      "text/plain": [
       "((353,), (89,))"
      ]
     },
     "execution_count": 81,
     "metadata": {},
     "output_type": "execute_result"
    }
   ],
   "source": [
    "y_train.shape, y_test.shape"
   ]
  },
  {
   "cell_type": "markdown",
   "metadata": {
    "colab_type": "text",
    "id": "o4dJViJD1Kd0"
   },
   "source": [
    "### Create the model's architecture"
   ]
  },
  {
   "cell_type": "code",
   "execution_count": 120,
   "metadata": {
    "colab": {},
    "colab_type": "code",
    "id": "Tkgf_BLl1Kd1"
   },
   "outputs": [],
   "source": [
    "# Create the model\n",
    "model = Sequential()"
   ]
  },
  {
   "cell_type": "code",
   "execution_count": 121,
   "metadata": {},
   "outputs": [],
   "source": [
    "# Add the first hidden layer\n",
    "model.add(Dense(64, activation = 'relu', input_shape = (n_cols, )))\n",
    "\n",
    "# Add the second hidden layer\n",
    "model.add(Dense(32, activation = 'relu'))\n",
    "\n",
    "# Add the output layer\n",
    "model.add(Dense(1, activation = 'relu'))"
   ]
  },
  {
   "cell_type": "code",
   "execution_count": 122,
   "metadata": {},
   "outputs": [
    {
     "name": "stdout",
     "output_type": "stream",
     "text": [
      "Model: \"sequential_6\"\n",
      "_________________________________________________________________\n",
      " Layer (type)                Output Shape              Param #   \n",
      "=================================================================\n",
      " dense_21 (Dense)            (None, 64)                704       \n",
      "                                                                 \n",
      " dense_22 (Dense)            (None, 32)                2080      \n",
      "                                                                 \n",
      " dense_23 (Dense)            (None, 1)                 33        \n",
      "                                                                 \n",
      "=================================================================\n",
      "Total params: 2,817\n",
      "Trainable params: 2,817\n",
      "Non-trainable params: 0\n",
      "_________________________________________________________________\n"
     ]
    }
   ],
   "source": [
    "model.summary()"
   ]
  },
  {
   "cell_type": "markdown",
   "metadata": {
    "colab_type": "text",
    "id": "5hQTS42V1Kd4"
   },
   "source": [
    "### Compile the model"
   ]
  },
  {
   "cell_type": "code",
   "execution_count": 123,
   "metadata": {
    "colab": {},
    "colab_type": "code",
    "id": "BvLsoanF1Kd5"
   },
   "outputs": [],
   "source": [
    "model.compile(\n",
    "    optimizer = 'adam',\n",
    "    loss = 'mse',\n",
    "    metrics = ['mae']\n",
    ")"
   ]
  },
  {
   "cell_type": "markdown",
   "metadata": {
    "colab_type": "text",
    "id": "6KPQbnEj1Kd7"
   },
   "source": [
    "### Fit the training data"
   ]
  },
  {
   "cell_type": "code",
   "execution_count": 124,
   "metadata": {
    "colab": {},
    "colab_type": "code",
    "id": "-oiuHjEj1Kd8"
   },
   "outputs": [],
   "source": [
    "from sklearn.utils import shuffle\n",
    "X_train2, y_train2 = shuffle(X_train, y_train, random_state = 11)"
   ]
  },
  {
   "cell_type": "code",
   "execution_count": 125,
   "metadata": {},
   "outputs": [
    {
     "name": "stdout",
     "output_type": "stream",
     "text": [
      "Epoch 1/50\n",
      "32/32 [==============================] - 0s 5ms/step - loss: 29353.6426 - mae: 153.2988 - val_loss: 23638.9297 - val_mae: 135.8008\n",
      "Epoch 2/50\n",
      "32/32 [==============================] - 0s 2ms/step - loss: 29205.5293 - mae: 152.8145 - val_loss: 23411.7734 - val_mae: 134.9693\n",
      "Epoch 3/50\n",
      "32/32 [==============================] - 0s 2ms/step - loss: 28772.8770 - mae: 151.4188 - val_loss: 22815.3203 - val_mae: 132.7980\n",
      "Epoch 4/50\n",
      "32/32 [==============================] - 0s 2ms/step - loss: 27767.3379 - mae: 148.2217 - val_loss: 21612.1621 - val_mae: 128.3323\n",
      "Epoch 5/50\n",
      "32/32 [==============================] - 0s 2ms/step - loss: 25975.0742 - mae: 142.2002 - val_loss: 19593.5898 - val_mae: 120.5182\n",
      "Epoch 6/50\n",
      "32/32 [==============================] - 0s 2ms/step - loss: 23226.8730 - mae: 132.4456 - val_loss: 16773.3789 - val_mae: 108.6965\n",
      "Epoch 7/50\n",
      "32/32 [==============================] - 0s 2ms/step - loss: 19604.5234 - mae: 118.3440 - val_loss: 13353.5107 - val_mae: 92.4734\n",
      "Epoch 8/50\n",
      "32/32 [==============================] - 0s 2ms/step - loss: 15446.3096 - mae: 100.4401 - val_loss: 9775.4551 - val_mae: 73.6596\n",
      "Epoch 9/50\n",
      "32/32 [==============================] - 0s 2ms/step - loss: 11253.4170 - mae: 82.5975 - val_loss: 6824.4229 - val_mae: 59.4339\n",
      "Epoch 10/50\n",
      "32/32 [==============================] - 0s 2ms/step - loss: 7957.4795 - mae: 68.1121 - val_loss: 4798.0557 - val_mae: 52.4744\n",
      "Epoch 11/50\n",
      "32/32 [==============================] - 0s 2ms/step - loss: 5794.9326 - mae: 60.3064 - val_loss: 3949.0959 - val_mae: 53.2319\n",
      "Epoch 12/50\n",
      "32/32 [==============================] - 0s 2ms/step - loss: 4749.0049 - mae: 57.0526 - val_loss: 3754.5261 - val_mae: 54.4860\n",
      "Epoch 13/50\n",
      "32/32 [==============================] - 0s 2ms/step - loss: 4347.6631 - mae: 55.8041 - val_loss: 3737.0820 - val_mae: 54.7938\n",
      "Epoch 14/50\n",
      "32/32 [==============================] - 0s 2ms/step - loss: 4189.7412 - mae: 55.2687 - val_loss: 3702.7622 - val_mae: 54.4296\n",
      "Epoch 15/50\n",
      "32/32 [==============================] - 0s 2ms/step - loss: 4082.1655 - mae: 54.5864 - val_loss: 3666.9170 - val_mae: 53.9087\n",
      "Epoch 16/50\n",
      "32/32 [==============================] - 0s 2ms/step - loss: 4000.8364 - mae: 54.0031 - val_loss: 3576.0554 - val_mae: 52.9314\n",
      "Epoch 17/50\n",
      "32/32 [==============================] - 0s 2ms/step - loss: 3936.1968 - mae: 53.6028 - val_loss: 3551.7302 - val_mae: 52.4307\n",
      "Epoch 18/50\n",
      "32/32 [==============================] - 0s 2ms/step - loss: 3866.0237 - mae: 52.9817 - val_loss: 3480.3262 - val_mae: 51.6006\n",
      "Epoch 19/50\n",
      "32/32 [==============================] - 0s 2ms/step - loss: 3802.0283 - mae: 52.4926 - val_loss: 3407.6636 - val_mae: 50.8266\n",
      "Epoch 20/50\n",
      "32/32 [==============================] - 0s 2ms/step - loss: 3749.3582 - mae: 52.0178 - val_loss: 3351.1377 - val_mae: 50.1465\n",
      "Epoch 21/50\n",
      "32/32 [==============================] - 0s 2ms/step - loss: 3696.3564 - mae: 51.5777 - val_loss: 3335.4150 - val_mae: 49.7446\n",
      "Epoch 22/50\n",
      "32/32 [==============================] - 0s 2ms/step - loss: 3657.4929 - mae: 51.0253 - val_loss: 3256.5261 - val_mae: 48.9407\n",
      "Epoch 23/50\n",
      "32/32 [==============================] - 0s 2ms/step - loss: 3603.6418 - mae: 50.7626 - val_loss: 3273.5986 - val_mae: 48.7837\n",
      "Epoch 24/50\n",
      "32/32 [==============================] - 0s 2ms/step - loss: 3555.5312 - mae: 50.3068 - val_loss: 3230.7434 - val_mae: 48.2382\n",
      "Epoch 25/50\n",
      "32/32 [==============================] - 0s 2ms/step - loss: 3514.6167 - mae: 49.9496 - val_loss: 3206.4390 - val_mae: 47.8802\n",
      "Epoch 26/50\n",
      "32/32 [==============================] - 0s 2ms/step - loss: 3474.6245 - mae: 49.6319 - val_loss: 3194.6782 - val_mae: 47.6188\n",
      "Epoch 27/50\n",
      "32/32 [==============================] - 0s 2ms/step - loss: 3440.5398 - mae: 49.3332 - val_loss: 3171.7126 - val_mae: 47.3018\n",
      "Epoch 28/50\n",
      "32/32 [==============================] - 0s 2ms/step - loss: 3418.0498 - mae: 48.9796 - val_loss: 3111.0107 - val_mae: 46.7392\n",
      "Epoch 29/50\n",
      "32/32 [==============================] - 0s 2ms/step - loss: 3379.7883 - mae: 48.7840 - val_loss: 3129.1541 - val_mae: 46.7831\n",
      "Epoch 30/50\n",
      "32/32 [==============================] - 0s 2ms/step - loss: 3351.9270 - mae: 48.4667 - val_loss: 3107.2676 - val_mae: 46.5378\n",
      "Epoch 31/50\n",
      "32/32 [==============================] - 0s 2ms/step - loss: 3319.7622 - mae: 48.2834 - val_loss: 3090.2688 - val_mae: 46.3317\n",
      "Epoch 32/50\n",
      "32/32 [==============================] - 0s 2ms/step - loss: 3291.2148 - mae: 47.9392 - val_loss: 3066.3364 - val_mae: 46.0838\n",
      "Epoch 33/50\n",
      "32/32 [==============================] - 0s 2ms/step - loss: 3269.9226 - mae: 47.8004 - val_loss: 3076.5750 - val_mae: 46.0831\n",
      "Epoch 34/50\n",
      "32/32 [==============================] - 0s 2ms/step - loss: 3242.2175 - mae: 47.4747 - val_loss: 3039.6748 - val_mae: 45.6875\n",
      "Epoch 35/50\n",
      "32/32 [==============================] - 0s 2ms/step - loss: 3220.1316 - mae: 47.2746 - val_loss: 3029.3252 - val_mae: 45.5526\n",
      "Epoch 36/50\n",
      "32/32 [==============================] - 0s 2ms/step - loss: 3203.8469 - mae: 47.1231 - val_loss: 3043.6348 - val_mae: 45.5891\n",
      "Epoch 37/50\n",
      "32/32 [==============================] - 0s 2ms/step - loss: 3177.6260 - mae: 46.8829 - val_loss: 3044.7717 - val_mae: 45.5306\n",
      "Epoch 38/50\n",
      "32/32 [==============================] - 0s 2ms/step - loss: 3163.4207 - mae: 46.7176 - val_loss: 3054.0049 - val_mae: 45.5295\n",
      "Epoch 39/50\n",
      "32/32 [==============================] - 0s 2ms/step - loss: 3141.0903 - mae: 46.5077 - val_loss: 3033.5427 - val_mae: 45.2413\n",
      "Epoch 40/50\n",
      "32/32 [==============================] - 0s 2ms/step - loss: 3126.3718 - mae: 46.3563 - val_loss: 3049.2151 - val_mae: 45.3211\n",
      "Epoch 41/50\n",
      "32/32 [==============================] - 0s 2ms/step - loss: 3113.7373 - mae: 46.2157 - val_loss: 3017.6670 - val_mae: 44.9803\n",
      "Epoch 42/50\n",
      "32/32 [==============================] - 0s 2ms/step - loss: 3090.0149 - mae: 45.9325 - val_loss: 3032.1274 - val_mae: 44.9927\n",
      "Epoch 43/50\n",
      "32/32 [==============================] - 0s 2ms/step - loss: 3078.6509 - mae: 45.8407 - val_loss: 3029.2283 - val_mae: 44.9104\n",
      "Epoch 44/50\n",
      "32/32 [==============================] - 0s 2ms/step - loss: 3068.6970 - mae: 45.7096 - val_loss: 3036.2009 - val_mae: 44.8723\n",
      "Epoch 45/50\n",
      "32/32 [==============================] - 0s 2ms/step - loss: 3053.2051 - mae: 45.5119 - val_loss: 3023.5928 - val_mae: 44.7569\n",
      "Epoch 46/50\n",
      "32/32 [==============================] - 0s 1ms/step - loss: 3040.6379 - mae: 45.3638 - val_loss: 3049.0955 - val_mae: 44.8213\n",
      "Epoch 47/50\n",
      "32/32 [==============================] - 0s 2ms/step - loss: 3035.0518 - mae: 45.2608 - val_loss: 3032.5576 - val_mae: 44.7149\n",
      "Epoch 48/50\n",
      "32/32 [==============================] - 0s 2ms/step - loss: 3031.6973 - mae: 45.3064 - val_loss: 3077.0798 - val_mae: 44.9460\n",
      "Epoch 49/50\n",
      "32/32 [==============================] - 0s 2ms/step - loss: 3013.3201 - mae: 45.1273 - val_loss: 3070.8335 - val_mae: 44.8661\n",
      "Epoch 50/50\n",
      "32/32 [==============================] - 0s 2ms/step - loss: 2991.5156 - mae: 44.8571 - val_loss: 3036.8271 - val_mae: 44.7123\n",
      "CPU times: user 3.92 s, sys: 658 ms, total: 4.57 s\n",
      "Wall time: 3.29 s\n"
     ]
    }
   ],
   "source": [
    "%%time\n",
    "history = model.fit(\n",
    "    X_train2,\n",
    "    y_train2,\n",
    "    validation_split = 0.1,\n",
    "    batch_size = 10,\n",
    "    epochs = 50,\n",
    "    verbose = 1\n",
    ")"
   ]
  },
  {
   "cell_type": "markdown",
   "metadata": {
    "colab_type": "text",
    "id": "CR-kCu3c1Kd-"
   },
   "source": [
    "### Create predictions"
   ]
  },
  {
   "cell_type": "code",
   "execution_count": 126,
   "metadata": {
    "colab": {},
    "colab_type": "code",
    "id": "wkywKqPg1Kd-"
   },
   "outputs": [],
   "source": [
    "predictions = model.predict(X_test)"
   ]
  },
  {
   "cell_type": "markdown",
   "metadata": {
    "colab_type": "text",
    "id": "-unEmrGo1KeA"
   },
   "source": [
    "### Evaluate the model"
   ]
  },
  {
   "cell_type": "code",
   "execution_count": 127,
   "metadata": {
    "colab": {},
    "colab_type": "code",
    "id": "QCIVpVrG1KeB"
   },
   "outputs": [
    {
     "name": "stdout",
     "output_type": "stream",
     "text": [
      "3/3 [==============================] - 0s 2ms/step - loss: 2865.0535 - mae: 43.4711\n"
     ]
    }
   ],
   "source": [
    "score = model.evaluate(X_test, y_test)"
   ]
  },
  {
   "cell_type": "code",
   "execution_count": 128,
   "metadata": {},
   "outputs": [
    {
     "data": {
      "text/plain": [
       "53.52619421177705"
      ]
     },
     "execution_count": 128,
     "metadata": {},
     "output_type": "execute_result"
    }
   ],
   "source": [
    "# Find RMSE\n",
    "score[0] ** (1/2)"
   ]
  },
  {
   "cell_type": "code",
   "execution_count": 129,
   "metadata": {},
   "outputs": [
    {
     "data": {
      "text/plain": [
       "152.13348416289594"
      ]
     },
     "execution_count": 129,
     "metadata": {},
     "output_type": "execute_result"
    }
   ],
   "source": [
    "y.mean()"
   ]
  },
  {
   "cell_type": "code",
   "execution_count": 130,
   "metadata": {},
   "outputs": [
    {
     "data": {
      "text/plain": [
       "77.00574586945044"
      ]
     },
     "execution_count": 130,
     "metadata": {},
     "output_type": "execute_result"
    }
   ],
   "source": [
    "y.std()"
   ]
  },
  {
   "cell_type": "code",
   "execution_count": 131,
   "metadata": {},
   "outputs": [
    {
     "data": {
      "text/plain": [
       "25.0"
      ]
     },
     "execution_count": 131,
     "metadata": {},
     "output_type": "execute_result"
    }
   ],
   "source": [
    "y.min()"
   ]
  },
  {
   "cell_type": "code",
   "execution_count": 132,
   "metadata": {},
   "outputs": [
    {
     "data": {
      "text/plain": [
       "346.0"
      ]
     },
     "execution_count": 132,
     "metadata": {},
     "output_type": "execute_result"
    }
   ],
   "source": [
    "y.max()"
   ]
  },
  {
   "cell_type": "markdown",
   "metadata": {
    "colab_type": "text",
    "id": "sSlqjs7e1KeD"
   },
   "source": [
    "### Visualisation of cost"
   ]
  },
  {
   "cell_type": "code",
   "execution_count": 134,
   "metadata": {
    "colab": {},
    "colab_type": "code",
    "id": "1F6hYpNh1KeE",
    "scrolled": true
   },
   "outputs": [
    {
     "data": {
      "image/png": "[encoded data removed]",
      "text/plain": [
       "<Figure size 1296x432 with 2 Axes>"
      ]
     },
     "metadata": {
      "needs_background": "light"
     },
     "output_type": "display_data"
    }
   ],
   "source": [
    "fig, ax = plt.subplots(1, 2, figsize = (18, 6))\n",
    "fig.subplots_adjust(left = 0.02, right = 0.98, wspace = 0.2)\n",
    "\n",
    "plt.rcParams.update({'font.size': 18})\n",
    "\n",
    "# Plot training & validation accuracy values\n",
    "ax[0].plot(history.history['mae'], label = 'Training')\n",
    "ax[0].plot(history.history['val_mae'], label = 'Validation')\n",
    "ax[0].set_title('Model mae')\n",
    "ax[0].set_ylabel('MAE')\n",
    "ax[0].set_xlabel('Epoch')\n",
    "ax[0].legend()\n",
    "\n",
    "# Plot training & validation loss values\n",
    "ax[1].plot(history.history['loss'], label = 'Training')\n",
    "ax[1].plot(history.history['val_loss'], label = 'Validation')\n",
    "ax[1].set_title('Model loss')\n",
    "ax[1].set_ylabel('Loss')\n",
    "ax[1].set_xlabel('Epoch')\n",
    "ax[1].legend()\n",
    "\n",
    "plt.show()"
   ]
  },
  {
   "cell_type": "markdown",
   "metadata": {
    "colab_type": "text",
    "id": "vQLzMZTM1KeG"
   },
   "source": [
    "### Visualisation of residuals"
   ]
  },
  {
   "cell_type": "code",
   "execution_count": 135,
   "metadata": {
    "colab": {},
    "colab_type": "code",
    "id": "opIulVSw1KeH"
   },
   "outputs": [],
   "source": [
    "# insert code here\n",
    "from sklearn.metrics import r2_score\n",
    "# Calculate R2 and adjusted R2\n",
    "r2 = r2_score(y_test, predictions)\n",
    "n, p = X.shape # sample size, number of explanatory variables\n",
    "adjusted_r2 = 1 - (1 - r2) * ((n - 1) / (n - p - 1))"
   ]
  },
  {
   "cell_type": "code",
   "execution_count": 136,
   "metadata": {},
   "outputs": [
    {
     "data": {
      "image/png": "[encoded data removed]",
      "text/plain": [
       "<Figure size 1080x432 with 1 Axes>"
      ]
     },
     "metadata": {
      "needs_background": "light"
     },
     "output_type": "display_data"
    }
   ],
   "source": [
    "difference = predictions.flatten() - y_test\n",
    "d_mean = difference.mean()\n",
    "d_std = difference.std()\n",
    "n_pred = len(predictions)\n",
    "plt.figure(figsize = (15, 6))\n",
    "plt.scatter(range(n_pred), difference, s = 15)\n",
    "plt.hlines(d_mean + d_std, 0, n_pred, 'r', lw = 1, label = '$\\pm \\: std$')\n",
    "plt.hlines(d_mean, 0, n_pred, label = '$mean$')\n",
    "plt.hlines(d_mean - d_std, 0, n_pred, 'r', lw = 1)\n",
    "plt.xlabel('Prediction')\n",
    "plt.ylabel('$\\hat y - y$')\n",
    "plt.legend()\n",
    "plt.text(0, difference.max() * 0.95,\n",
    "         '$R^2: %.2f, \\: Adjusted \\: R^2: %.2f$' % (r2, adjusted_r2),\n",
    "         fontsize = 12)\n",
    "plt.show()"
   ]
  },
  {
   "cell_type": "markdown",
   "metadata": {
    "colab_type": "text",
    "id": "RERADKgNFq9T"
   },
   "source": [
    "\n",
    "\n",
    "---\n",
    "\n",
    "\n",
    "\n",
    "---\n",
    "\n",
    "\n",
    "\n",
    "> > > > > > > > > © 2021 Institute of Data\n",
    "\n",
    "\n",
    "---\n",
    "\n",
    "\n",
    "\n",
    "---\n",
    "\n",
    "\n",
    "\n"
   ]
  }
 ],
 "metadata": {
  "colab": {
   "collapsed_sections": [],
   "name": "DSIA Lab-10_1.ipynb",
   "provenance": []
  },
  "kernelspec": {
   "display_name": "Python 3 (ipykernel)",
   "language": "python",
   "name": "python3"
  },
  "language_info": {
   "codemirror_mode": {
    "name": "ipython",
    "version": 3
   },
   "file_extension": ".py",
   "mimetype": "text/x-python",
   "name": "python",
   "nbconvert_exporter": "python",
   "pygments_lexer": "ipython3",
   "version": "3.8.12"
  }
 },
 "nbformat": 4,
 "nbformat_minor": 4
}
